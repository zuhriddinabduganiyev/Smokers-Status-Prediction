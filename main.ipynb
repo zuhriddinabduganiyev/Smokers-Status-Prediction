{
 "cells": [
  {
   "cell_type": "markdown",
   "metadata": {},
   "source": [
    "# SMOKERS STATUS PREDICTION "
   ]
  },
  {
   "cell_type": "markdown",
   "metadata": {},
   "source": [
    "![](image.png)"
   ]
  },
  {
   "cell_type": "markdown",
   "metadata": {},
   "source": [
    "## English\n"
   ]
  },
  {
   "cell_type": "markdown",
   "metadata": {},
   "source": [
    "This dataset provides information about health and physical condition measurements. Each row contains essential medical and biometric measurements for an individual, including:\n",
    "\n",
    "\t1.\tPhysical parameters: Age, height, weight, waist circumference.\n",
    "\t2.\tVision and hearing ability: Separate indicators for both eyes and ears.\n",
    "\t3.\tBlood pressure: Systolic and diastolic blood pressure.\n",
    "\t4.\tBlood composition and health indicators:\n",
    "\t•\tBlood sugar and cholesterol levels: Fasting blood sugar, HDL, LDL, and total cholesterol.\n",
    "\t•\tLiver enzymes: Indicators like AST, ALT, and GTP.\n",
    "\t•\tHemoglobin and creatinine: Hemoglobin is an oxygen-carrying substance in the blood, while creatinine is used to assess kidney function.\n",
    "\t5.\tSmoking and dental health: Smoking status and presence of dental caries.\n",
    "\n",
    "This type of dataset is typically used to assess people’s health status and predict the risk of various diseases. In this model, we aim to predict whether an individual smokes or not.\n"
   ]
  },
  {
   "cell_type": "markdown",
   "metadata": {},
   "source": [
    "## Russian"
   ]
  },
  {
   "cell_type": "markdown",
   "metadata": {},
   "source": [
    "\n",
    "\n",
    "Этот набор данных содержит информацию об измерениях здоровья и физического состояния. Каждая строка содержит основные медицинские и биометрические показатели для человека, включая:\n",
    "\n",
    "\t1.\tФизические параметры: Возраст, рост, вес, окружность талии.\n",
    "\t2.\tЗрение и слух: Отдельные показатели для обоих глаз и ушей.\n",
    "\t3.\tАртериальное давление: Систолическое и диастолическое давление.\n",
    "\t4.\tСостав крови и показатели здоровья:\n",
    "\t•\tУровень сахара в крови и холестерина: Уровень сахара натощак, HDL, LDL и общий холестерин.\n",
    "\t•\tФерменты печени: Показатели, такие как AST, ALT и GTP.\n",
    "\t•\tГемоглобин и креатинин: Гемоглобин переносит кислород в крови, а креатинин используется для оценки функции почек.\n",
    "\t5.\tКурение и здоровье зубов: Статус курения и наличие кариеса.\n",
    "\n",
    "Такой тип набора данных обычно используется для оценки состояния здоровья людей и прогнозирования риска различных заболеваний. В этой модели мы стремимся предсказать, курит человек или нет."
   ]
  },
  {
   "cell_type": "markdown",
   "metadata": {},
   "source": [
    "## Uzbek"
   ]
  },
  {
   "cell_type": "markdown",
   "metadata": {},
   "source": [
    "\n",
    "\n",
    "\n",
    "Bu dataset sog’liqni saqlash va jismoniy holat o’lchovlari haqida ma’lumot beradi. Har bir qatorda shaxsning asosiy tibbiy va biometrik o’lchovlari mavjud, shu jumladan:\n",
    "\n",
    "\t1.\tJismoniy parametrlar: Yoshi, bo’yi, og’irligi, bel o’lchami.\n",
    "\t2.\tKo’rish va eshitish qobiliyati: Har ikki ko’z va quloq uchun alohida ko’rsatkichlar.\n",
    "\t3.\tQon bosimi: Sistolik va diastolik qon bosimi.\n",
    "\t4.\tQon tarkibi va sog’liq ko’rsatkichlari:\n",
    "\t•\tQondagi qand va xolesterin miqdori: Fasting blood sugar, HDL, LDL va umumiy xolesterin.\n",
    "\t•\tJigar fermentlari: AST, ALT, Gtp kabi ko’rsatkichlar.\n",
    "\t•\tGemoglobin va kreatinin: Gemoglobin qondagi kislorod tashuvchi moddadir, kreatinin esa buyraklar faoliyatini baholash uchun ishlatiladi.\n",
    "\t5.\tChekish va tish sog’lig’i: Chekish holati va tish kariesining mavjudligi.\n",
    "\n",
    "Bu turdagi dataset odatda odamlarning sog’liq holatini baholash va kasallik xavfini bashorat qilish uchun ishlatiladi. Bu modelda biz uning chekishi yoki chekmasligini bashorat qilamiz."
   ]
  },
  {
   "cell_type": "markdown",
   "metadata": {},
   "source": [
    "### Datasetdagi mavjud ustunlar"
   ]
  },
  {
   "cell_type": "markdown",
   "metadata": {},
   "source": [
    "1. id: Shaxs identifikatori\n",
    "2. age: Yoshi\n",
    "3. height(cm): Bo'yi (sm)\n",
    "4. weight(kg): Og'irligi (kg)\n",
    "5. waist(cm): Bel o'lchami (sm)\n",
    "6. eyesight(left): Chap ko'z ko'rish qobiliyati\n",
    "7. eyesight(right): O'ng ko'z ko'rish qobiliyati\n",
    "8. hearing(left): Chap quloq eshitish qobiliyati\n",
    "9. hearing(right): O'ng quloq eshitish qobiliyati\n",
    "10. systolic: Sistolik qon bosimi\n",
    "11. relaxation: Diastolik qon bosimi (yoki dam olish paytidagi bosim)\n",
    "12. fasting blood sugar: Och qoringa olingan qondagi qand miqdori\n",
    "13. Cholesterol: Xolesterin miqdori\n",
    "14. triglyceride: Triglitserid miqdori\n",
    "15. HDL: Yaxshi xolesterin\n",
    "16. LDL: Yomon xolesterin\n",
    "17. hemoglobin: Gemoglobin miqdori\n",
    "18. Urine protein: Siydikdagi oqsil darajasi\n",
    "19. serum creatinine: Qon zardobidagi kreatinin miqdori\n",
    "20. AST: Jigar fermenti (aspartat aminotransferaza)\n",
    "21. ALT: Jigar fermenti (alanin aminotransferaza)\n",
    "22. Gtp: Jigar fermenti (gamma-glutamil transferaza)\n",
    "23. dental caries: Tish kariesi mavjudligi\n",
    "24. smoking: Chekish holati\n"
   ]
  },
  {
   "cell_type": "code",
   "execution_count": 3,
   "metadata": {},
   "outputs": [],
   "source": [
    "import pandas as pd\n",
    "import numpy as np\n",
    "from sklearn.tree import DecisionTreeClassifier\n",
    "from sklearn.model_selection import train_test_split, cross_val_score\n",
    "from sklearn.ensemble import RandomForestClassifier\n",
    "from sklearn.linear_model import LogisticRegression\n",
    "from sklearn.metrics import accuracy_score, roc_auc_score, roc_curve, classification_report\n",
    "from sklearn.preprocessing import StandardScaler\n",
    "import matplotlib.pyplot as plt\n",
    "import seaborn as sns\n",
    "import warnings as w\n",
    "import optuna\n",
    "from sklearn.model_selection import learning_curve\n"
   ]
  },
  {
   "cell_type": "code",
   "execution_count": 4,
   "metadata": {},
   "outputs": [],
   "source": [
    "w.filterwarnings('ignore')"
   ]
  },
  {
   "cell_type": "markdown",
   "metadata": {},
   "source": [
    "### train data"
   ]
  },
  {
   "cell_type": "code",
   "execution_count": 5,
   "metadata": {},
   "outputs": [
    {
     "data": {
      "text/html": [
       "<div>\n",
       "<style scoped>\n",
       "    .dataframe tbody tr th:only-of-type {\n",
       "        vertical-align: middle;\n",
       "    }\n",
       "\n",
       "    .dataframe tbody tr th {\n",
       "        vertical-align: top;\n",
       "    }\n",
       "\n",
       "    .dataframe thead th {\n",
       "        text-align: right;\n",
       "    }\n",
       "</style>\n",
       "<table border=\"1\" class=\"dataframe\">\n",
       "  <thead>\n",
       "    <tr style=\"text-align: right;\">\n",
       "      <th></th>\n",
       "      <th>age</th>\n",
       "      <th>height(cm)</th>\n",
       "      <th>weight(kg)</th>\n",
       "      <th>waist(cm)</th>\n",
       "      <th>eyesight(left)</th>\n",
       "      <th>eyesight(right)</th>\n",
       "      <th>hearing(left)</th>\n",
       "      <th>hearing(right)</th>\n",
       "      <th>systolic</th>\n",
       "      <th>relaxation</th>\n",
       "      <th>...</th>\n",
       "      <th>HDL</th>\n",
       "      <th>LDL</th>\n",
       "      <th>hemoglobin</th>\n",
       "      <th>Urine protein</th>\n",
       "      <th>serum creatinine</th>\n",
       "      <th>AST</th>\n",
       "      <th>ALT</th>\n",
       "      <th>Gtp</th>\n",
       "      <th>dental caries</th>\n",
       "      <th>smoking</th>\n",
       "    </tr>\n",
       "  </thead>\n",
       "  <tbody>\n",
       "    <tr>\n",
       "      <th>0</th>\n",
       "      <td>55.0</td>\n",
       "      <td>170.0</td>\n",
       "      <td>80.0</td>\n",
       "      <td>92.0</td>\n",
       "      <td>1.2</td>\n",
       "      <td>0.8</td>\n",
       "      <td>1.0</td>\n",
       "      <td>1.0</td>\n",
       "      <td>129.0</td>\n",
       "      <td>74.0</td>\n",
       "      <td>...</td>\n",
       "      <td>49.0</td>\n",
       "      <td>114.0</td>\n",
       "      <td>15.4</td>\n",
       "      <td>1.0</td>\n",
       "      <td>0.9</td>\n",
       "      <td>20.0</td>\n",
       "      <td>23.0</td>\n",
       "      <td>13.0</td>\n",
       "      <td>0.0</td>\n",
       "      <td>0.0</td>\n",
       "    </tr>\n",
       "    <tr>\n",
       "      <th>1</th>\n",
       "      <td>30.0</td>\n",
       "      <td>170.0</td>\n",
       "      <td>80.0</td>\n",
       "      <td>94.0</td>\n",
       "      <td>1.5</td>\n",
       "      <td>1.5</td>\n",
       "      <td>1.0</td>\n",
       "      <td>1.0</td>\n",
       "      <td>128.0</td>\n",
       "      <td>84.0</td>\n",
       "      <td>...</td>\n",
       "      <td>51.0</td>\n",
       "      <td>111.0</td>\n",
       "      <td>16.2</td>\n",
       "      <td>1.0</td>\n",
       "      <td>0.9</td>\n",
       "      <td>30.0</td>\n",
       "      <td>39.0</td>\n",
       "      <td>92.0</td>\n",
       "      <td>0.0</td>\n",
       "      <td>1.0</td>\n",
       "    </tr>\n",
       "    <tr>\n",
       "      <th>2</th>\n",
       "      <td>45.0</td>\n",
       "      <td>170.0</td>\n",
       "      <td>75.0</td>\n",
       "      <td>84.0</td>\n",
       "      <td>1.0</td>\n",
       "      <td>1.0</td>\n",
       "      <td>1.0</td>\n",
       "      <td>1.0</td>\n",
       "      <td>124.0</td>\n",
       "      <td>80.0</td>\n",
       "      <td>...</td>\n",
       "      <td>52.0</td>\n",
       "      <td>112.0</td>\n",
       "      <td>14.6</td>\n",
       "      <td>2.0</td>\n",
       "      <td>0.9</td>\n",
       "      <td>20.0</td>\n",
       "      <td>20.0</td>\n",
       "      <td>50.0</td>\n",
       "      <td>0.0</td>\n",
       "      <td>1.0</td>\n",
       "    </tr>\n",
       "  </tbody>\n",
       "</table>\n",
       "<p>3 rows × 23 columns</p>\n",
       "</div>"
      ],
      "text/plain": [
       "    age  height(cm)  weight(kg)  waist(cm)  eyesight(left)  eyesight(right)  \\\n",
       "0  55.0       170.0        80.0       92.0             1.2              0.8   \n",
       "1  30.0       170.0        80.0       94.0             1.5              1.5   \n",
       "2  45.0       170.0        75.0       84.0             1.0              1.0   \n",
       "\n",
       "   hearing(left)  hearing(right)  systolic  relaxation  ...   HDL    LDL  \\\n",
       "0            1.0             1.0     129.0        74.0  ...  49.0  114.0   \n",
       "1            1.0             1.0     128.0        84.0  ...  51.0  111.0   \n",
       "2            1.0             1.0     124.0        80.0  ...  52.0  112.0   \n",
       "\n",
       "   hemoglobin  Urine protein  serum creatinine   AST   ALT   Gtp  \\\n",
       "0        15.4            1.0               0.9  20.0  23.0  13.0   \n",
       "1        16.2            1.0               0.9  30.0  39.0  92.0   \n",
       "2        14.6            2.0               0.9  20.0  20.0  50.0   \n",
       "\n",
       "   dental caries  smoking  \n",
       "0            0.0      0.0  \n",
       "1            0.0      1.0  \n",
       "2            0.0      1.0  \n",
       "\n",
       "[3 rows x 23 columns]"
      ]
     },
     "execution_count": 5,
     "metadata": {},
     "output_type": "execute_result"
    }
   ],
   "source": [
    "train_df=pd.read_csv('train.csv')\n",
    "train_df=train_df.drop('id', axis=1)\n",
    "train_df.head(3)"
   ]
  },
  {
   "cell_type": "markdown",
   "metadata": {},
   "source": [
    "### test data"
   ]
  },
  {
   "cell_type": "code",
   "execution_count": 6,
   "metadata": {},
   "outputs": [
    {
     "data": {
      "text/html": [
       "<div>\n",
       "<style scoped>\n",
       "    .dataframe tbody tr th:only-of-type {\n",
       "        vertical-align: middle;\n",
       "    }\n",
       "\n",
       "    .dataframe tbody tr th {\n",
       "        vertical-align: top;\n",
       "    }\n",
       "\n",
       "    .dataframe thead th {\n",
       "        text-align: right;\n",
       "    }\n",
       "</style>\n",
       "<table border=\"1\" class=\"dataframe\">\n",
       "  <thead>\n",
       "    <tr style=\"text-align: right;\">\n",
       "      <th></th>\n",
       "      <th>age</th>\n",
       "      <th>height(cm)</th>\n",
       "      <th>weight(kg)</th>\n",
       "      <th>waist(cm)</th>\n",
       "      <th>eyesight(left)</th>\n",
       "      <th>eyesight(right)</th>\n",
       "      <th>hearing(left)</th>\n",
       "      <th>hearing(right)</th>\n",
       "      <th>systolic</th>\n",
       "      <th>relaxation</th>\n",
       "      <th>...</th>\n",
       "      <th>triglyceride</th>\n",
       "      <th>HDL</th>\n",
       "      <th>LDL</th>\n",
       "      <th>hemoglobin</th>\n",
       "      <th>Urine protein</th>\n",
       "      <th>serum creatinine</th>\n",
       "      <th>AST</th>\n",
       "      <th>ALT</th>\n",
       "      <th>Gtp</th>\n",
       "      <th>dental caries</th>\n",
       "    </tr>\n",
       "  </thead>\n",
       "  <tbody>\n",
       "    <tr>\n",
       "      <th>0</th>\n",
       "      <td>40.0</td>\n",
       "      <td>175.0</td>\n",
       "      <td>70.0</td>\n",
       "      <td>84.0</td>\n",
       "      <td>1.5</td>\n",
       "      <td>1.5</td>\n",
       "      <td>1.0</td>\n",
       "      <td>1.0</td>\n",
       "      <td>120.0</td>\n",
       "      <td>59.0</td>\n",
       "      <td>...</td>\n",
       "      <td>122.0</td>\n",
       "      <td>45.0</td>\n",
       "      <td>109.0</td>\n",
       "      <td>16.0</td>\n",
       "      <td>1.0</td>\n",
       "      <td>1.0</td>\n",
       "      <td>15.0</td>\n",
       "      <td>9.0</td>\n",
       "      <td>25.0</td>\n",
       "      <td>0.0</td>\n",
       "    </tr>\n",
       "    <tr>\n",
       "      <th>1</th>\n",
       "      <td>45.0</td>\n",
       "      <td>155.0</td>\n",
       "      <td>55.0</td>\n",
       "      <td>72.4</td>\n",
       "      <td>0.6</td>\n",
       "      <td>0.5</td>\n",
       "      <td>1.0</td>\n",
       "      <td>1.0</td>\n",
       "      <td>102.0</td>\n",
       "      <td>68.0</td>\n",
       "      <td>...</td>\n",
       "      <td>104.0</td>\n",
       "      <td>56.0</td>\n",
       "      <td>109.0</td>\n",
       "      <td>11.5</td>\n",
       "      <td>1.0</td>\n",
       "      <td>0.8</td>\n",
       "      <td>14.0</td>\n",
       "      <td>10.0</td>\n",
       "      <td>13.0</td>\n",
       "      <td>0.0</td>\n",
       "    </tr>\n",
       "    <tr>\n",
       "      <th>2</th>\n",
       "      <td>40.0</td>\n",
       "      <td>160.0</td>\n",
       "      <td>55.0</td>\n",
       "      <td>76.0</td>\n",
       "      <td>1.2</td>\n",
       "      <td>1.2</td>\n",
       "      <td>1.0</td>\n",
       "      <td>1.0</td>\n",
       "      <td>115.0</td>\n",
       "      <td>64.0</td>\n",
       "      <td>...</td>\n",
       "      <td>84.0</td>\n",
       "      <td>77.0</td>\n",
       "      <td>74.0</td>\n",
       "      <td>13.3</td>\n",
       "      <td>1.0</td>\n",
       "      <td>0.8</td>\n",
       "      <td>14.0</td>\n",
       "      <td>10.0</td>\n",
       "      <td>11.0</td>\n",
       "      <td>0.0</td>\n",
       "    </tr>\n",
       "  </tbody>\n",
       "</table>\n",
       "<p>3 rows × 22 columns</p>\n",
       "</div>"
      ],
      "text/plain": [
       "    age  height(cm)  weight(kg)  waist(cm)  eyesight(left)  eyesight(right)  \\\n",
       "0  40.0       175.0        70.0       84.0             1.5              1.5   \n",
       "1  45.0       155.0        55.0       72.4             0.6              0.5   \n",
       "2  40.0       160.0        55.0       76.0             1.2              1.2   \n",
       "\n",
       "   hearing(left)  hearing(right)  systolic  relaxation  ...  triglyceride  \\\n",
       "0            1.0             1.0     120.0        59.0  ...         122.0   \n",
       "1            1.0             1.0     102.0        68.0  ...         104.0   \n",
       "2            1.0             1.0     115.0        64.0  ...          84.0   \n",
       "\n",
       "    HDL    LDL  hemoglobin  Urine protein  serum creatinine   AST   ALT   Gtp  \\\n",
       "0  45.0  109.0        16.0            1.0               1.0  15.0   9.0  25.0   \n",
       "1  56.0  109.0        11.5            1.0               0.8  14.0  10.0  13.0   \n",
       "2  77.0   74.0        13.3            1.0               0.8  14.0  10.0  11.0   \n",
       "\n",
       "   dental caries  \n",
       "0            0.0  \n",
       "1            0.0  \n",
       "2            0.0  \n",
       "\n",
       "[3 rows x 22 columns]"
      ]
     },
     "execution_count": 6,
     "metadata": {},
     "output_type": "execute_result"
    }
   ],
   "source": [
    "test_df=pd.read_csv('test.csv')\n",
    "test_df=test_df.drop('id', axis=1)\n",
    "test_df.head(3)"
   ]
  },
  {
   "cell_type": "markdown",
   "metadata": {},
   "source": [
    "### Correlation columns with 'smoking' column"
   ]
  },
  {
   "cell_type": "code",
   "execution_count": 123,
   "metadata": {},
   "outputs": [
    {
     "data": {
      "text/html": [
       "<style type=\"text/css\">\n",
       "#T_26b52_row0_col0, #T_26b52_row0_col1, #T_26b52_row0_col2, #T_26b52_row0_col3, #T_26b52_row0_col4, #T_26b52_row0_col5, #T_26b52_row0_col6, #T_26b52_row0_col7, #T_26b52_row0_col8, #T_26b52_row0_col9, #T_26b52_row0_col10, #T_26b52_row0_col11, #T_26b52_row0_col12, #T_26b52_row0_col13, #T_26b52_row0_col14, #T_26b52_row0_col15, #T_26b52_row0_col16, #T_26b52_row0_col17, #T_26b52_row0_col18, #T_26b52_row0_col19, #T_26b52_row0_col20, #T_26b52_row0_col21, #T_26b52_row0_col22 {\n",
       "  background-color: #3b4cc0;\n",
       "  color: #f1f1f1;\n",
       "}\n",
       "</style>\n",
       "<table id=\"T_26b52\">\n",
       "  <thead>\n",
       "    <tr>\n",
       "      <th class=\"blank level0\" >&nbsp;</th>\n",
       "      <th id=\"T_26b52_level0_col0\" class=\"col_heading level0 col0\" >age</th>\n",
       "      <th id=\"T_26b52_level0_col1\" class=\"col_heading level0 col1\" >height(cm)</th>\n",
       "      <th id=\"T_26b52_level0_col2\" class=\"col_heading level0 col2\" >weight(kg)</th>\n",
       "      <th id=\"T_26b52_level0_col3\" class=\"col_heading level0 col3\" >waist(cm)</th>\n",
       "      <th id=\"T_26b52_level0_col4\" class=\"col_heading level0 col4\" >eyesight(left)</th>\n",
       "      <th id=\"T_26b52_level0_col5\" class=\"col_heading level0 col5\" >eyesight(right)</th>\n",
       "      <th id=\"T_26b52_level0_col6\" class=\"col_heading level0 col6\" >hearing(left)</th>\n",
       "      <th id=\"T_26b52_level0_col7\" class=\"col_heading level0 col7\" >hearing(right)</th>\n",
       "      <th id=\"T_26b52_level0_col8\" class=\"col_heading level0 col8\" >systolic</th>\n",
       "      <th id=\"T_26b52_level0_col9\" class=\"col_heading level0 col9\" >relaxation</th>\n",
       "      <th id=\"T_26b52_level0_col10\" class=\"col_heading level0 col10\" >fasting blood sugar</th>\n",
       "      <th id=\"T_26b52_level0_col11\" class=\"col_heading level0 col11\" >Cholesterol</th>\n",
       "      <th id=\"T_26b52_level0_col12\" class=\"col_heading level0 col12\" >triglyceride</th>\n",
       "      <th id=\"T_26b52_level0_col13\" class=\"col_heading level0 col13\" >HDL</th>\n",
       "      <th id=\"T_26b52_level0_col14\" class=\"col_heading level0 col14\" >LDL</th>\n",
       "      <th id=\"T_26b52_level0_col15\" class=\"col_heading level0 col15\" >hemoglobin</th>\n",
       "      <th id=\"T_26b52_level0_col16\" class=\"col_heading level0 col16\" >Urine protein</th>\n",
       "      <th id=\"T_26b52_level0_col17\" class=\"col_heading level0 col17\" >serum creatinine</th>\n",
       "      <th id=\"T_26b52_level0_col18\" class=\"col_heading level0 col18\" >AST</th>\n",
       "      <th id=\"T_26b52_level0_col19\" class=\"col_heading level0 col19\" >ALT</th>\n",
       "      <th id=\"T_26b52_level0_col20\" class=\"col_heading level0 col20\" >Gtp</th>\n",
       "      <th id=\"T_26b52_level0_col21\" class=\"col_heading level0 col21\" >dental caries</th>\n",
       "      <th id=\"T_26b52_level0_col22\" class=\"col_heading level0 col22\" >smoking</th>\n",
       "    </tr>\n",
       "  </thead>\n",
       "  <tbody>\n",
       "    <tr>\n",
       "      <th id=\"T_26b52_level0_row0\" class=\"row_heading level0 row0\" >smoking</th>\n",
       "      <td id=\"T_26b52_row0_col0\" class=\"data row0 col0\" >-0.193103</td>\n",
       "      <td id=\"T_26b52_row0_col1\" class=\"data row0 col1\" >0.494092</td>\n",
       "      <td id=\"T_26b52_row0_col2\" class=\"data row0 col2\" >0.399787</td>\n",
       "      <td id=\"T_26b52_row0_col3\" class=\"data row0 col3\" >0.300887</td>\n",
       "      <td id=\"T_26b52_row0_col4\" class=\"data row0 col4\" >0.128234</td>\n",
       "      <td id=\"T_26b52_row0_col5\" class=\"data row0 col5\" >0.134564</td>\n",
       "      <td id=\"T_26b52_row0_col6\" class=\"data row0 col6\" >-0.007418</td>\n",
       "      <td id=\"T_26b52_row0_col7\" class=\"data row0 col7\" >-0.002186</td>\n",
       "      <td id=\"T_26b52_row0_col8\" class=\"data row0 col8\" >0.123260</td>\n",
       "      <td id=\"T_26b52_row0_col9\" class=\"data row0 col9\" >0.152125</td>\n",
       "      <td id=\"T_26b52_row0_col10\" class=\"data row0 col10\" >0.103526</td>\n",
       "      <td id=\"T_26b52_row0_col11\" class=\"data row0 col11\" >-0.034782</td>\n",
       "      <td id=\"T_26b52_row0_col12\" class=\"data row0 col12\" >0.345541</td>\n",
       "      <td id=\"T_26b52_row0_col13\" class=\"data row0 col13\" >-0.290750</td>\n",
       "      <td id=\"T_26b52_row0_col14\" class=\"data row0 col14\" >-0.035665</td>\n",
       "      <td id=\"T_26b52_row0_col15\" class=\"data row0 col15\" >0.503442</td>\n",
       "      <td id=\"T_26b52_row0_col16\" class=\"data row0 col16\" >-0.008566</td>\n",
       "      <td id=\"T_26b52_row0_col17\" class=\"data row0 col17\" >0.351120</td>\n",
       "      <td id=\"T_26b52_row0_col18\" class=\"data row0 col18\" >0.101480</td>\n",
       "      <td id=\"T_26b52_row0_col19\" class=\"data row0 col19\" >0.241721</td>\n",
       "      <td id=\"T_26b52_row0_col20\" class=\"data row0 col20\" >0.377667</td>\n",
       "      <td id=\"T_26b52_row0_col21\" class=\"data row0 col21\" >0.148421</td>\n",
       "      <td id=\"T_26b52_row0_col22\" class=\"data row0 col22\" >1.000000</td>\n",
       "    </tr>\n",
       "  </tbody>\n",
       "</table>\n"
      ],
      "text/plain": [
       "<pandas.io.formats.style.Styler at 0x17461c170>"
      ]
     },
     "execution_count": 123,
     "metadata": {},
     "output_type": "execute_result"
    }
   ],
   "source": [
    "smokin_corr = train_df.corr()['smoking'].to_frame().T\n",
    "smokin_corr.style.background_gradient(cmap='coolwarm') "
   ]
  },
  {
   "cell_type": "markdown",
   "metadata": {},
   "source": [
    "### split data to X and y. X=feature data, y=target data."
   ]
  },
  {
   "cell_type": "code",
   "execution_count": 7,
   "metadata": {},
   "outputs": [],
   "source": [
    "X=train_df.drop('smoking', axis=1)  \n",
    "y=train_df['smoking']"
   ]
  },
  {
   "cell_type": "markdown",
   "metadata": {},
   "source": [
    "### LogisticRegression model"
   ]
  },
  {
   "cell_type": "code",
   "execution_count": 125,
   "metadata": {},
   "outputs": [
    {
     "name": "stdout",
     "output_type": "stream",
     "text": [
      "Accuracy: 0.7613333333333333\n",
      "ROC AUC Score: 0.8489779395154323\n"
     ]
    }
   ],
   "source": [
    "X_train, X_test, y_train, y_test = train_test_split(X, y, test_size=0.2, random_state=42)\n",
    "model = LogisticRegression()\n",
    "model.fit(X_train, y_train)\n",
    "y_pred_tree = model.predict(X_test)\n",
    "accuracy = accuracy_score(y_test, y_pred_tree)\n",
    "print(\"Accuracy:\", accuracy)\n",
    "y_prob_tree = model.predict_proba(X_test)[:, 1]\n",
    "auc_score = roc_auc_score(y_test, y_prob_tree)\n",
    "print(\"ROC AUC Score:\", auc_score)"
   ]
  },
  {
   "cell_type": "markdown",
   "metadata": {},
   "source": [
    "### Decision Tree model"
   ]
  },
  {
   "cell_type": "code",
   "execution_count": 126,
   "metadata": {},
   "outputs": [
    {
     "name": "stdout",
     "output_type": "stream",
     "text": [
      "Accuracy: 0.785\n",
      "ROC AUC Score: 0.8489779395154323\n"
     ]
    }
   ],
   "source": [
    "X_train, X_test, y_train, y_test = train_test_split(X, y, test_size=0.2, random_state=42)\n",
    "tree_model = DecisionTreeClassifier(max_depth=5, min_samples_split=10, min_samples_leaf=5, random_state=42)\n",
    "tree_model.fit(X_train, y_train)\n",
    "y_pred = tree_model.predict(X_test)\n",
    "accuracy = accuracy_score(y_test, y_pred)\n",
    "print(\"Accuracy:\", accuracy)\n",
    "\n",
    "y_prob = model.predict_proba(X_test)[:, 1]\n",
    "auc_score = roc_auc_score(y_test, y_prob)\n",
    "print(\"ROC AUC Score:\", auc_score)"
   ]
  },
  {
   "cell_type": "markdown",
   "metadata": {},
   "source": [
    "### random forest model with optuna"
   ]
  },
  {
   "cell_type": "code",
   "execution_count": 127,
   "metadata": {},
   "outputs": [
    {
     "name": "stderr",
     "output_type": "stream",
     "text": [
      "[I 2024-10-26 18:32:02,954] A new study created in memory with name: no-name-d53e6bce-7369-4aa7-b6b7-33ac2e257bc2\n",
      "[I 2024-10-26 18:32:08,434] Trial 0 finished with value: 0.8810938742812451 and parameters: {'n_estimators': 67, 'max_depth': 25, 'min_samples_split': 7, 'min_samples_leaf': 5, 'max_features': None}. Best is trial 0 with value: 0.8810938742812451.\n",
      "[I 2024-10-26 18:32:10,909] Trial 1 finished with value: 0.8866232328927312 and parameters: {'n_estimators': 141, 'max_depth': 25, 'min_samples_split': 9, 'min_samples_leaf': 5, 'max_features': 'sqrt'}. Best is trial 1 with value: 0.8866232328927312.\n",
      "[I 2024-10-26 18:32:13,533] Trial 2 finished with value: 0.8826571484436545 and parameters: {'n_estimators': 225, 'max_depth': 9, 'min_samples_split': 20, 'min_samples_leaf': 8, 'max_features': 'log2'}. Best is trial 1 with value: 0.8866232328927312.\n",
      "[I 2024-10-26 18:32:15,144] Trial 3 finished with value: 0.8840965566205182 and parameters: {'n_estimators': 109, 'max_depth': 30, 'min_samples_split': 18, 'min_samples_leaf': 15, 'max_features': 'sqrt'}. Best is trial 1 with value: 0.8866232328927312.\n",
      "[I 2024-10-26 18:32:19,990] Trial 4 finished with value: 0.8787755396475561 and parameters: {'n_estimators': 99, 'max_depth': 8, 'min_samples_split': 8, 'min_samples_leaf': 2, 'max_features': None}. Best is trial 1 with value: 0.8866232328927312.\n",
      "[I 2024-10-26 18:32:22,699] Trial 5 finished with value: 0.8830358651350945 and parameters: {'n_estimators': 201, 'max_depth': 12, 'min_samples_split': 8, 'min_samples_leaf': 19, 'max_features': 'sqrt'}. Best is trial 1 with value: 0.8866232328927312.\n",
      "[I 2024-10-26 18:32:24,977] Trial 6 finished with value: 0.8836547204805051 and parameters: {'n_estimators': 156, 'max_depth': 25, 'min_samples_split': 9, 'min_samples_leaf': 14, 'max_features': 'log2'}. Best is trial 1 with value: 0.8866232328927312.\n",
      "[I 2024-10-26 18:32:37,995] Trial 7 finished with value: 0.8804427473380678 and parameters: {'n_estimators': 280, 'max_depth': 8, 'min_samples_split': 18, 'min_samples_leaf': 11, 'max_features': None}. Best is trial 1 with value: 0.8866232328927312.\n",
      "[I 2024-10-26 18:32:49,578] Trial 8 finished with value: 0.8777456960129391 and parameters: {'n_estimators': 285, 'max_depth': 7, 'min_samples_split': 9, 'min_samples_leaf': 14, 'max_features': None}. Best is trial 1 with value: 0.8866232328927312.\n",
      "[I 2024-10-26 18:32:55,478] Trial 9 finished with value: 0.8841748627033348 and parameters: {'n_estimators': 91, 'max_depth': 29, 'min_samples_split': 14, 'min_samples_leaf': 16, 'max_features': None}. Best is trial 1 with value: 0.8866232328927312.\n",
      "[I 2024-10-26 18:32:58,343] Trial 10 finished with value: 0.8867921841986866 and parameters: {'n_estimators': 152, 'max_depth': 18, 'min_samples_split': 12, 'min_samples_leaf': 1, 'max_features': 'sqrt'}. Best is trial 10 with value: 0.8867921841986866.\n",
      "[I 2024-10-26 18:33:01,292] Trial 11 finished with value: 0.8850699249590435 and parameters: {'n_estimators': 150, 'max_depth': 18, 'min_samples_split': 4, 'min_samples_leaf': 1, 'max_features': 'sqrt'}. Best is trial 10 with value: 0.8867921841986866.\n",
      "[I 2024-10-26 18:33:03,600] Trial 12 finished with value: 0.8870527298924218 and parameters: {'n_estimators': 139, 'max_depth': 19, 'min_samples_split': 13, 'min_samples_leaf': 6, 'max_features': 'sqrt'}. Best is trial 12 with value: 0.8870527298924218.\n",
      "[I 2024-10-26 18:33:06,869] Trial 13 finished with value: 0.885991563824678 and parameters: {'n_estimators': 196, 'max_depth': 17, 'min_samples_split': 13, 'min_samples_leaf': 5, 'max_features': 'sqrt'}. Best is trial 12 with value: 0.8870527298924218.\n",
      "[I 2024-10-26 18:33:10,746] Trial 14 finished with value: 0.8860637003373331 and parameters: {'n_estimators': 242, 'max_depth': 18, 'min_samples_split': 13, 'min_samples_leaf': 8, 'max_features': 'sqrt'}. Best is trial 12 with value: 0.8870527298924218.\n",
      "[I 2024-10-26 18:33:12,874] Trial 15 finished with value: 0.8865088585535871 and parameters: {'n_estimators': 130, 'max_depth': 15, 'min_samples_split': 16, 'min_samples_leaf': 2, 'max_features': 'sqrt'}. Best is trial 12 with value: 0.8870527298924218.\n",
      "[I 2024-10-26 18:33:13,749] Trial 16 finished with value: 0.8855891180172331 and parameters: {'n_estimators': 54, 'max_depth': 22, 'min_samples_split': 12, 'min_samples_leaf': 8, 'max_features': 'sqrt'}. Best is trial 12 with value: 0.8870527298924218.\n",
      "[I 2024-10-26 18:33:16,763] Trial 17 finished with value: 0.8876317203229438 and parameters: {'n_estimators': 175, 'max_depth': 21, 'min_samples_split': 15, 'min_samples_leaf': 4, 'max_features': 'log2'}. Best is trial 17 with value: 0.8876317203229438.\n",
      "[I 2024-10-26 18:33:19,497] Trial 18 finished with value: 0.8847799551614625 and parameters: {'n_estimators': 182, 'max_depth': 21, 'min_samples_split': 15, 'min_samples_leaf': 11, 'max_features': 'log2'}. Best is trial 17 with value: 0.8876317203229438.\n",
      "[I 2024-10-26 18:33:23,191] Trial 19 finished with value: 0.8863849925680407 and parameters: {'n_estimators': 237, 'max_depth': 13, 'min_samples_split': 2, 'min_samples_leaf': 4, 'max_features': 'log2'}. Best is trial 17 with value: 0.8876317203229438.\n",
      "[I 2024-10-26 18:33:25,135] Trial 20 finished with value: 0.8858088496314394 and parameters: {'n_estimators': 120, 'max_depth': 21, 'min_samples_split': 16, 'min_samples_leaf': 7, 'max_features': 'log2'}. Best is trial 17 with value: 0.8876317203229438.\n",
      "[I 2024-10-26 18:33:28,132] Trial 21 finished with value: 0.8866569282374581 and parameters: {'n_estimators': 170, 'max_depth': 20, 'min_samples_split': 11, 'min_samples_leaf': 3, 'max_features': 'log2'}. Best is trial 17 with value: 0.8876317203229438.\n",
      "[I 2024-10-26 18:33:30,748] Trial 22 finished with value: 0.885144434383299 and parameters: {'n_estimators': 165, 'max_depth': 15, 'min_samples_split': 11, 'min_samples_leaf': 6, 'max_features': 'sqrt'}. Best is trial 17 with value: 0.8876317203229438.\n",
      "[I 2024-10-26 18:33:34,368] Trial 23 finished with value: 0.8860803107185367 and parameters: {'n_estimators': 199, 'max_depth': 23, 'min_samples_split': 15, 'min_samples_leaf': 1, 'max_features': 'sqrt'}. Best is trial 17 with value: 0.8876317203229438.\n",
      "[I 2024-10-26 18:33:36,545] Trial 24 finished with value: 0.8855758297122702 and parameters: {'n_estimators': 133, 'max_depth': 16, 'min_samples_split': 18, 'min_samples_leaf': 3, 'max_features': 'log2'}. Best is trial 17 with value: 0.8876317203229438.\n",
      "[I 2024-10-26 18:33:37,799] Trial 25 finished with value: 0.8845103924036456 and parameters: {'n_estimators': 81, 'max_depth': 19, 'min_samples_split': 11, 'min_samples_leaf': 10, 'max_features': 'sqrt'}. Best is trial 17 with value: 0.8876317203229438.\n",
      "[I 2024-10-26 18:33:40,407] Trial 26 finished with value: 0.8850134496629517 and parameters: {'n_estimators': 186, 'max_depth': 11, 'min_samples_split': 13, 'min_samples_leaf': 3, 'max_features': 'log2'}. Best is trial 17 with value: 0.8876317203229438.\n",
      "[I 2024-10-26 18:33:42,346] Trial 27 finished with value: 0.8863512972233137 and parameters: {'n_estimators': 118, 'max_depth': 23, 'min_samples_split': 16, 'min_samples_leaf': 6, 'max_features': 'sqrt'}. Best is trial 17 with value: 0.8876317203229438.\n",
      "[I 2024-10-26 18:33:45,320] Trial 28 finished with value: 0.8863736025923585 and parameters: {'n_estimators': 152, 'max_depth': 27, 'min_samples_split': 6, 'min_samples_leaf': 1, 'max_features': 'sqrt'}. Best is trial 17 with value: 0.8876317203229438.\n",
      "[I 2024-10-26 18:33:46,547] Trial 29 finished with value: 0.8824953158725006 and parameters: {'n_estimators': 75, 'max_depth': 27, 'min_samples_split': 20, 'min_samples_leaf': 5, 'max_features': 'log2'}. Best is trial 17 with value: 0.8876317203229438.\n",
      "[I 2024-10-26 18:34:01,386] Trial 30 finished with value: 0.8838184513809397 and parameters: {'n_estimators': 220, 'max_depth': 14, 'min_samples_split': 12, 'min_samples_leaf': 9, 'max_features': None}. Best is trial 17 with value: 0.8876317203229438.\n",
      "[I 2024-10-26 18:34:04,409] Trial 31 finished with value: 0.8864172641658077 and parameters: {'n_estimators': 170, 'max_depth': 20, 'min_samples_split': 10, 'min_samples_leaf': 3, 'max_features': 'log2'}. Best is trial 17 with value: 0.8876317203229438.\n",
      "[I 2024-10-26 18:34:07,345] Trial 32 finished with value: 0.8855544735078656 and parameters: {'n_estimators': 172, 'max_depth': 20, 'min_samples_split': 14, 'min_samples_leaf': 4, 'max_features': 'log2'}. Best is trial 17 with value: 0.8876317203229438.\n",
      "[I 2024-10-26 18:34:09,880] Trial 33 finished with value: 0.8859512243274694 and parameters: {'n_estimators': 141, 'max_depth': 24, 'min_samples_split': 12, 'min_samples_leaf': 4, 'max_features': 'log2'}. Best is trial 17 with value: 0.8876317203229438.\n",
      "[I 2024-10-26 18:34:11,414] Trial 34 finished with value: 0.8713155801579029 and parameters: {'n_estimators': 211, 'max_depth': 5, 'min_samples_split': 10, 'min_samples_leaf': 6, 'max_features': 'log2'}. Best is trial 17 with value: 0.8876317203229438.\n",
      "[I 2024-10-26 18:34:14,221] Trial 35 finished with value: 0.8857808492745534 and parameters: {'n_estimators': 160, 'max_depth': 17, 'min_samples_split': 14, 'min_samples_leaf': 2, 'max_features': 'log2'}. Best is trial 17 with value: 0.8876317203229438.\n",
      "[I 2024-10-26 18:34:16,186] Trial 36 finished with value: 0.8867542176130786 and parameters: {'n_estimators': 105, 'max_depth': 20, 'min_samples_split': 6, 'min_samples_leaf': 3, 'max_features': 'sqrt'}. Best is trial 17 with value: 0.8876317203229438.\n",
      "[I 2024-10-26 18:34:17,912] Trial 37 finished with value: 0.8859151560711418 and parameters: {'n_estimators': 104, 'max_depth': 19, 'min_samples_split': 5, 'min_samples_leaf': 7, 'max_features': 'sqrt'}. Best is trial 17 with value: 0.8876317203229438.\n",
      "[I 2024-10-26 18:34:19,573] Trial 38 finished with value: 0.8830572213394992 and parameters: {'n_estimators': 114, 'max_depth': 22, 'min_samples_split': 3, 'min_samples_leaf': 20, 'max_features': 'sqrt'}. Best is trial 17 with value: 0.8876317203229438.\n",
      "[I 2024-10-26 18:34:22,048] Trial 39 finished with value: 0.8861234977096657 and parameters: {'n_estimators': 139, 'max_depth': 16, 'min_samples_split': 7, 'min_samples_leaf': 2, 'max_features': 'sqrt'}. Best is trial 17 with value: 0.8876317203229438.\n",
      "[I 2024-10-26 18:34:23,452] Trial 40 finished with value: 0.8846048342853454 and parameters: {'n_estimators': 94, 'max_depth': 25, 'min_samples_split': 17, 'min_samples_leaf': 12, 'max_features': 'sqrt'}. Best is trial 17 with value: 0.8876317203229438.\n",
      "[I 2024-10-26 18:34:26,745] Trial 41 finished with value: 0.8866635723899398 and parameters: {'n_estimators': 184, 'max_depth': 20, 'min_samples_split': 8, 'min_samples_leaf': 4, 'max_features': 'sqrt'}. Best is trial 17 with value: 0.8876317203229438.\n",
      "[I 2024-10-26 18:34:28,942] Trial 42 finished with value: 0.8864495357635744 and parameters: {'n_estimators': 128, 'max_depth': 18, 'min_samples_split': 7, 'min_samples_leaf': 5, 'max_features': 'sqrt'}. Best is trial 17 with value: 0.8876317203229438.\n",
      "[I 2024-10-26 18:34:32,169] Trial 43 finished with value: 0.8859009186015387 and parameters: {'n_estimators': 183, 'max_depth': 19, 'min_samples_split': 8, 'min_samples_leaf': 4, 'max_features': 'sqrt'}. Best is trial 17 with value: 0.8876317203229438.\n",
      "[I 2024-10-26 18:34:35,090] Trial 44 finished with value: 0.8844320863208289 and parameters: {'n_estimators': 148, 'max_depth': 21, 'min_samples_split': 5, 'min_samples_leaf': 1, 'max_features': 'sqrt'}. Best is trial 17 with value: 0.8876317203229438.\n",
      "[I 2024-10-26 18:34:58,176] Trial 45 finished with value: 0.8827425732612728 and parameters: {'n_estimators': 270, 'max_depth': 23, 'min_samples_split': 9, 'min_samples_leaf': 2, 'max_features': None}. Best is trial 17 with value: 0.8876317203229438.\n",
      "[I 2024-10-26 18:35:01,351] Trial 46 finished with value: 0.8873645304767275 and parameters: {'n_estimators': 189, 'max_depth': 16, 'min_samples_split': 8, 'min_samples_leaf': 5, 'max_features': 'sqrt'}. Best is trial 17 with value: 0.8876317203229438.\n",
      "[I 2024-10-26 18:35:04,077] Trial 47 finished with value: 0.8839802839520938 and parameters: {'n_estimators': 209, 'max_depth': 10, 'min_samples_split': 6, 'min_samples_leaf': 5, 'max_features': 'sqrt'}. Best is trial 17 with value: 0.8876317203229438.\n",
      "[I 2024-10-26 18:35:07,161] Trial 48 finished with value: 0.8864632986508574 and parameters: {'n_estimators': 193, 'max_depth': 16, 'min_samples_split': 10, 'min_samples_leaf': 7, 'max_features': 'sqrt'}. Best is trial 17 with value: 0.8876317203229438.\n",
      "[I 2024-10-26 18:35:11,148] Trial 49 finished with value: 0.8810231615155502 and parameters: {'n_estimators': 59, 'max_depth': 13, 'min_samples_split': 15, 'min_samples_leaf': 6, 'max_features': None}. Best is trial 17 with value: 0.8876317203229438.\n"
     ]
    },
    {
     "name": "stdout",
     "output_type": "stream",
     "text": [
      "Best parameters found by Optuna: {'n_estimators': 175, 'max_depth': 21, 'min_samples_split': 15, 'min_samples_leaf': 4, 'max_features': 'log2'}\n",
      "Best AUC score achieved: 0.8876317203229438\n",
      "Final Model Accuracy: 0.802\n",
      "Final Model ROC AUC Score: 0.8876317203229438\n"
     ]
    }
   ],
   "source": [
    "X_train, X_test, y_train, y_test = train_test_split(X, y, test_size=0.2, random_state=42)\n",
    "def objective(trial):\n",
    "    n_estimators = trial.suggest_int('n_estimators', 50, 300)\n",
    "    max_depth = trial.suggest_int('max_depth', 5, 30)\n",
    "    min_samples_split = trial.suggest_int('min_samples_split', 2, 20)\n",
    "    min_samples_leaf = trial.suggest_int('min_samples_leaf', 1, 20)\n",
    "    max_features = trial.suggest_categorical('max_features', ['sqrt', 'log2', None])\n",
    "    rf_model = RandomForestClassifier(\n",
    "        n_estimators=n_estimators,\n",
    "        max_depth=max_depth,\n",
    "        min_samples_split=min_samples_split,\n",
    "        min_samples_leaf=min_samples_leaf,\n",
    "        max_features=max_features,\n",
    "        random_state=42\n",
    "    )\n",
    "    rf_model.fit(X_train, y_train)\n",
    "    y_prob = rf_model.predict_proba(X_test)[:, 1]\n",
    "    auc_score = roc_auc_score(y_test, y_prob)\n",
    "    return auc_score  \n",
    "study = optuna.create_study(direction='maximize')\n",
    "study.optimize(objective, n_trials=50)\n",
    "print(\"Best parameters found by Optuna:\", study.best_params)\n",
    "print(\"Best AUC score achieved:\", study.best_value)\n",
    "best_params = study.best_params\n",
    "rf_model = RandomForestClassifier(**best_params, random_state=42)\n",
    "rf_model.fit(X_train, y_train)\n",
    "\n",
    "y_pred = rf_model.predict(X_test)\n",
    "accuracy = accuracy_score(y_test, y_pred)\n",
    "print(\"Final Model Accuracy:\", accuracy)\n",
    "y_prob = rf_model.predict_proba(X_test)[:, 1]\n",
    "auc_score = roc_auc_score(y_test, y_prob)\n",
    "print(\"Final Model ROC AUC Score:\", auc_score)\n"
   ]
  },
  {
   "cell_type": "markdown",
   "metadata": {},
   "source": [
    "### Best parameters found by Optuna:\n",
    "#### n_estimators=250, 'max_depth': 28, 'min_samples_split': 16, 'min_samples_leaf': 3, 'max_features': 'log2'"
   ]
  },
  {
   "cell_type": "markdown",
   "metadata": {},
   "source": [
    "### roc curve for model with optuna"
   ]
  },
  {
   "cell_type": "code",
   "execution_count": 128,
   "metadata": {},
   "outputs": [
    {
     "data": {
      "image/png": "[encoded data removed]",
      "text/plain": [
       "<Figure size 800x600 with 1 Axes>"
      ]
     },
     "metadata": {},
     "output_type": "display_data"
    }
   ],
   "source": [
    "fpr, tpr, thresholds = roc_curve(y_test, y_prob)\n",
    "plt.figure(figsize=(8, 6))\n",
    "plt.plot(fpr, tpr, label=f'ROC Curve (AUC = {auc_score:.2f})')\n",
    "plt.plot([0, 1], [0, 1], 'k--')  \n",
    "plt.xlabel('False Positive Rate')\n",
    "plt.ylabel('True Positive Rate')\n",
    "plt.title('ROC Curve')\n",
    "plt.legend(loc='best')\n",
    "plt.show()"
   ]
  },
  {
   "cell_type": "markdown",
   "metadata": {},
   "source": [
    "### Random Forest model"
   ]
  },
  {
   "cell_type": "code",
   "execution_count": 129,
   "metadata": {},
   "outputs": [
    {
     "name": "stdout",
     "output_type": "stream",
     "text": [
      "Accuracy: 0.803\n",
      "ROC AUC Score: 0.8878524011017903\n"
     ]
    }
   ],
   "source": [
    "X_train, X_test, y_train, y_test = train_test_split(X, y, test_size=0.2, random_state=42)\n",
    "rf_model = RandomForestClassifier(n_estimators=250, max_depth=28, min_samples_split=16,min_samples_leaf=3, max_features='log2',random_state=42)\n",
    "rf_model.fit(X_train, y_train)\n",
    "y_pred = rf_model.predict(X_test)\n",
    "\n",
    "accuracy = accuracy_score(y_test, y_pred)\n",
    "print(\"Accuracy:\", accuracy)\n",
    "y_prob = rf_model.predict_proba(X_test)[:, 1]\n",
    "auc_score = roc_auc_score(y_test, y_prob)\n",
    "print(\"ROC AUC Score:\", auc_score)"
   ]
  },
  {
   "cell_type": "markdown",
   "metadata": {},
   "source": [
    "### roc curve plot"
   ]
  },
  {
   "cell_type": "code",
   "execution_count": 130,
   "metadata": {},
   "outputs": [
    {
     "data": {
      "image/png": "[encoded data removed]",
      "text/plain": [
       "<Figure size 600x400 with 1 Axes>"
      ]
     },
     "metadata": {},
     "output_type": "display_data"
    }
   ],
   "source": [
    "fpr, tpr, thresholds = roc_curve(y_test, y_prob)\n",
    "plt.figure(figsize=(6, 4))\n",
    "plt.plot(fpr, tpr, label=f'ROC Curve (AUC = {auc_score:.2f})')\n",
    "plt.plot([0, 1], [0, 1], 'k--')  \n",
    "plt.xlabel('False Positive Rate')\n",
    "plt.ylabel('True Positive Rate')\n",
    "plt.title('ROC Curve')\n",
    "plt.legend(loc='best')\n",
    "plt.show()"
   ]
  },
  {
   "cell_type": "markdown",
   "metadata": {},
   "source": [
    "### Learning curves"
   ]
  },
  {
   "cell_type": "code",
   "execution_count": 133,
   "metadata": {},
   "outputs": [
    {
     "data": {
      "image/png": "[encoded data removed]",
      "text/plain": [
       "<Figure size 640x480 with 1 Axes>"
      ]
     },
     "metadata": {},
     "output_type": "display_data"
    }
   ],
   "source": [
    "X_train, X_test, y_train, y_test = train_test_split(X, y, test_size=0.2, random_state=42)\n",
    "model = RandomForestClassifier(n_estimators=250, max_depth=28, min_samples_split=16,min_samples_leaf=3, max_features='log2',random_state=42)\n",
    "train_sizes, train_scores, test_scores = learning_curve(model, X_train, y_train, \n",
    "                                                        cv=5, n_jobs=-1,\n",
    "                                                        train_sizes=np.linspace(0.1, 1.0, 10))\n",
    "train_scores_mean = np.mean(train_scores, axis=1)\n",
    "test_scores_mean = np.mean(test_scores, axis=1)\n",
    "train_scores_std = np.std(train_scores, axis=1)\n",
    "test_scores_std = np.std(test_scores, axis=1)\n",
    "plt.figure()\n",
    "plt.title(\"Learning Curves (Random Forest)\")\n",
    "plt.xlabel(\"Training examples\")\n",
    "plt.ylabel(\"Score\")\n",
    "plt.ylim(0, 1.1)\n",
    "plt.plot(train_sizes, train_scores_mean, 'o-', color=\"r\", label=\"Training score\")\n",
    "plt.fill_between(train_sizes, train_scores_mean - train_scores_std,\n",
    "                 train_scores_mean + train_scores_std, alpha=0.1, color=\"r\")\n",
    "plt.plot(train_sizes, test_scores_mean, 'o-', color=\"g\", label=\"Cross-validation score\")\n",
    "plt.fill_between(train_sizes, test_scores_mean - test_scores_std,\n",
    "                 test_scores_mean + test_scores_std, alpha=0.1, color=\"g\")\n",
    "plt.legend(loc=\"best\")\n",
    "plt.grid()\n",
    "plt.show()\n"
   ]
  },
  {
   "cell_type": "code",
   "execution_count": 134,
   "metadata": {},
   "outputs": [
    {
     "name": "stdout",
     "output_type": "stream",
     "text": [
      "Accuracy: 0.8\n",
      "ROC AUC Score: 0.8878524011017903\n"
     ]
    }
   ],
   "source": [
    "from sklearn.calibration import CalibratedClassifierCV\n",
    "from sklearn.model_selection import train_test_split\n",
    "\n",
    "X_train, X_test, y_train, y_test = train_test_split(X, y, test_size=0.2, random_state=42)\n",
    "rf_model = RandomForestClassifier(n_estimators=250, max_depth=28, min_samples_split=16,\n",
    "                                   min_samples_leaf=3, max_features='log2', random_state=42)\n",
    "rf_model.fit(X_train, y_train)\n",
    "calibrated_model = CalibratedClassifierCV(rf_model, method='sigmoid', cv='prefit')\n",
    "calibrated_model.fit(X_train, y_train)\n",
    "y_pred = calibrated_model.predict(X_test)\n",
    "y_prob = calibrated_model.predict_proba(X_test)[:, 1]\n",
    "accuracy = accuracy_score(y_test, y_pred)\n",
    "auc_score = roc_auc_score(y_test, y_prob)\n",
    "print(\"Accuracy:\", accuracy)\n",
    "print(\"ROC AUC Score:\", auc_score)"
   ]
  },
  {
   "cell_type": "code",
   "execution_count": 145,
   "metadata": {},
   "outputs": [
    {
     "name": "stdout",
     "output_type": "stream",
     "text": [
      "Accuracy: 0.8026666666666666\n",
      "ROC AUC Score: 0.8872881227231915\n"
     ]
    }
   ],
   "source": [
    "from sklearn.calibration import CalibratedClassifierCV\n",
    "from sklearn.utils import class_weight\n",
    "\n",
    "X_train, X_test, y_train, y_test = train_test_split(X, y, test_size=0.2, random_state=42)\n",
    "weights = class_weight.compute_class_weight('balanced', classes=np.unique(y_train), y=y_train)\n",
    "class_weights = {0: weights[0], 1: weights[1]}\n",
    "rf_model = RandomForestClassifier(n_estimators=300, max_depth=30, min_samples_split=10,\n",
    "                                   min_samples_leaf=2, max_features='sqrt', random_state=42,\n",
    "                                   class_weight=class_weights)\n",
    "rf_model.fit(X_train, y_train)\n",
    "calibrated_model = CalibratedClassifierCV(rf_model, method='sigmoid', cv='prefit')\n",
    "calibrated_model.fit(X_train, y_train)\n",
    "y_pred = calibrated_model.predict(X_test)\n",
    "y_prob = calibrated_model.predict_proba(X_test)[:, 1]\n",
    "accuracy = accuracy_score(y_test, y_pred)\n",
    "auc_score = roc_auc_score(y_test, y_prob)\n",
    "\n",
    "print(\"Accuracy:\", accuracy)\n",
    "print(\"ROC AUC Score:\", auc_score)\n"
   ]
  },
  {
   "cell_type": "code",
   "execution_count": 146,
   "metadata": {},
   "outputs": [
    {
     "data": {
      "text/plain": [
       "array([9.82346715e-01, 1.52189522e-05, 2.18066239e-05, ...,\n",
       "       5.59585887e-03, 2.81063139e-05, 5.93805357e-01])"
      ]
     },
     "execution_count": 146,
     "metadata": {},
     "output_type": "execute_result"
    }
   ],
   "source": [
    "y_prob_t = calibrated_model.predict_proba(test_df)[:, 1]\n",
    "y_prob_t"
   ]
  },
  {
   "cell_type": "code",
   "execution_count": 147,
   "metadata": {},
   "outputs": [],
   "source": [
    "subm = pd.read_csv(\"sample_submission.csv\")\n",
    "subm['smoking'] = y_prob_t\n",
    "subm.to_csv(\"sixth_submission.csv\", index=False)"
   ]
  },
  {
   "cell_type": "code",
   "execution_count": 148,
   "metadata": {},
   "outputs": [
    {
     "name": "stderr",
     "output_type": "stream",
     "text": [
      "[I 2024-10-26 18:57:33,657] A new study created in memory with name: no-name-56eef7bd-16de-41f4-9c85-fd465f4897e7\n",
      "[I 2024-10-26 18:57:41,289] Trial 0 finished with value: 0.8822082424395101 and parameters: {'n_estimators': 311, 'max_depth': 48, 'min_samples_split': 6, 'min_samples_leaf': 5, 'max_features': 'sqrt', 'bootstrap': True}. Best is trial 0 with value: 0.8822082424395101.\n",
      "[I 2024-10-26 18:57:44,018] Trial 1 finished with value: 0.8813064776528465 and parameters: {'n_estimators': 157, 'max_depth': 43, 'min_samples_split': 4, 'min_samples_leaf': 4, 'max_features': 'log2', 'bootstrap': False}. Best is trial 0 with value: 0.8822082424395101.\n",
      "[I 2024-10-26 18:57:46,397] Trial 2 finished with value: 0.8499096414269235 and parameters: {'n_estimators': 360, 'max_depth': 2, 'min_samples_split': 13, 'min_samples_leaf': 8, 'max_features': 'log2', 'bootstrap': True}. Best is trial 0 with value: 0.8822082424395101.\n",
      "[I 2024-10-26 18:57:52,307] Trial 3 finished with value: 0.8776940781252293 and parameters: {'n_estimators': 218, 'max_depth': 12, 'min_samples_split': 19, 'min_samples_leaf': 9, 'max_features': None, 'bootstrap': True}. Best is trial 0 with value: 0.8822082424395101.\n",
      "[I 2024-10-26 18:57:54,070] Trial 4 finished with value: 0.881151119823666 and parameters: {'n_estimators': 142, 'max_depth': 37, 'min_samples_split': 12, 'min_samples_leaf': 3, 'max_features': 'sqrt', 'bootstrap': False}. Best is trial 0 with value: 0.8822082424395101.\n",
      "[I 2024-10-26 18:57:57,964] Trial 5 finished with value: 0.882258957263517 and parameters: {'n_estimators': 440, 'max_depth': 21, 'min_samples_split': 17, 'min_samples_leaf': 4, 'max_features': 'log2', 'bootstrap': True}. Best is trial 5 with value: 0.882258957263517.\n",
      "[I 2024-10-26 18:57:58,622] Trial 6 finished with value: 0.8804233722511773 and parameters: {'n_estimators': 66, 'max_depth': 17, 'min_samples_split': 11, 'min_samples_leaf': 3, 'max_features': 'sqrt', 'bootstrap': True}. Best is trial 5 with value: 0.882258957263517.\n",
      "[I 2024-10-26 18:58:00,289] Trial 7 finished with value: 0.8818339964368409 and parameters: {'n_estimators': 201, 'max_depth': 45, 'min_samples_split': 17, 'min_samples_leaf': 5, 'max_features': 'log2', 'bootstrap': True}. Best is trial 5 with value: 0.882258957263517.\n",
      "[I 2024-10-26 18:58:02,628] Trial 8 finished with value: 0.8819202140224034 and parameters: {'n_estimators': 195, 'max_depth': 37, 'min_samples_split': 16, 'min_samples_leaf': 2, 'max_features': 'sqrt', 'bootstrap': True}. Best is trial 5 with value: 0.882258957263517.\n",
      "[I 2024-10-26 18:58:11,548] Trial 9 finished with value: 0.8777436898897565 and parameters: {'n_estimators': 331, 'max_depth': 18, 'min_samples_split': 20, 'min_samples_leaf': 9, 'max_features': None, 'bootstrap': True}. Best is trial 5 with value: 0.882258957263517.\n",
      "[I 2024-10-26 18:58:16,784] Trial 10 finished with value: 0.8825733433583937 and parameters: {'n_estimators': 463, 'max_depth': 28, 'min_samples_split': 8, 'min_samples_leaf': 7, 'max_features': 'log2', 'bootstrap': False}. Best is trial 10 with value: 0.8825733433583937.\n",
      "[I 2024-10-26 18:58:22,628] Trial 11 finished with value: 0.8825569471005673 and parameters: {'n_estimators': 495, 'max_depth': 27, 'min_samples_split': 8, 'min_samples_leaf': 7, 'max_features': 'log2', 'bootstrap': False}. Best is trial 10 with value: 0.8825733433583937.\n",
      "[I 2024-10-26 18:58:27,735] Trial 12 finished with value: 0.8825598137506999 and parameters: {'n_estimators': 494, 'max_depth': 30, 'min_samples_split': 8, 'min_samples_leaf': 7, 'max_features': 'log2', 'bootstrap': False}. Best is trial 10 with value: 0.8825733433583937.\n",
      "[I 2024-10-26 18:58:31,832] Trial 13 finished with value: 0.8826444698623859 and parameters: {'n_estimators': 410, 'max_depth': 30, 'min_samples_split': 8, 'min_samples_leaf': 7, 'max_features': 'log2', 'bootstrap': False}. Best is trial 13 with value: 0.8826444698623859.\n",
      "[I 2024-10-26 18:58:36,036] Trial 14 finished with value: 0.8826087316823724 and parameters: {'n_estimators': 413, 'max_depth': 32, 'min_samples_split': 9, 'min_samples_leaf': 7, 'max_features': 'log2', 'bootstrap': False}. Best is trial 13 with value: 0.8826444698623859.\n",
      "[I 2024-10-26 18:58:40,764] Trial 15 finished with value: 0.882044637218435 and parameters: {'n_estimators': 403, 'max_depth': 36, 'min_samples_split': 10, 'min_samples_leaf': 10, 'max_features': 'log2', 'bootstrap': False}. Best is trial 13 with value: 0.8826444698623859.\n",
      "[I 2024-10-26 18:58:58,848] Trial 16 finished with value: 0.8031265216053128 and parameters: {'n_estimators': 388, 'max_depth': 33, 'min_samples_split': 2, 'min_samples_leaf': 6, 'max_features': None, 'bootstrap': False}. Best is trial 13 with value: 0.8826444698623859.\n",
      "[I 2024-10-26 18:59:02,558] Trial 17 finished with value: 0.8824454719466693 and parameters: {'n_estimators': 280, 'max_depth': 24, 'min_samples_split': 14, 'min_samples_leaf': 6, 'max_features': 'log2', 'bootstrap': False}. Best is trial 13 with value: 0.8826444698623859.\n",
      "[I 2024-10-26 18:59:07,228] Trial 18 finished with value: 0.8825216379944257 and parameters: {'n_estimators': 414, 'max_depth': 41, 'min_samples_split': 5, 'min_samples_leaf': 8, 'max_features': 'log2', 'bootstrap': False}. Best is trial 13 with value: 0.8826444698623859.\n",
      "[I 2024-10-26 18:59:20,341] Trial 19 finished with value: 0.8333759282073182 and parameters: {'n_estimators': 367, 'max_depth': 11, 'min_samples_split': 10, 'min_samples_leaf': 10, 'max_features': None, 'bootstrap': False}. Best is trial 13 with value: 0.8826444698623859.\n"
     ]
    },
    {
     "name": "stdout",
     "output_type": "stream",
     "text": [
      "Best hyperparameters: {'n_estimators': 410, 'max_depth': 30, 'min_samples_split': 8, 'min_samples_leaf': 7, 'max_features': 'log2', 'bootstrap': False}\n",
      "Accuracy: 0.7996666666666666\n",
      "ROC AUC Score: 0.887315173915437\n"
     ]
    }
   ],
   "source": [
    "\n",
    "X_train, X_test, y_train, y_test = train_test_split(X, y, test_size=0.2, random_state=42)\n",
    "def objective(trial):\n",
    "    n_estimators = trial.suggest_int(\"n_estimators\", 50, 500)\n",
    "    max_depth = trial.suggest_int(\"max_depth\", 2, 50)\n",
    "    min_samples_split = trial.suggest_int(\"min_samples_split\", 2, 20)\n",
    "    min_samples_leaf = trial.suggest_int(\"min_samples_leaf\", 1, 10)\n",
    "    max_features = trial.suggest_categorical(\"max_features\", [\"sqrt\", \"log2\", None])\n",
    "    bootstrap = trial.suggest_categorical(\"bootstrap\", [True, False])\n",
    "\n",
    "    rf = RandomForestClassifier(\n",
    "        n_estimators=n_estimators,\n",
    "        max_depth=max_depth,\n",
    "        min_samples_split=min_samples_split,\n",
    "        min_samples_leaf=min_samples_leaf,\n",
    "        max_features=max_features,\n",
    "        bootstrap=bootstrap,\n",
    "        random_state=42,\n",
    "        n_jobs=-1\n",
    "    )\n",
    "    roc_auc = cross_val_score(rf, X_train, y_train, cv=3, scoring=\"roc_auc\", n_jobs=-1).mean()\n",
    "    return roc_auc\n",
    "study = optuna.create_study(direction=\"maximize\")\n",
    "study.optimize(objective, n_trials=20)\n",
    "best_params = study.best_params\n",
    "print(\"Best hyperparameters:\", best_params)\n",
    "best_rf = RandomForestClassifier(\n",
    "    n_estimators=best_params['n_estimators'],\n",
    "    max_depth=best_params['max_depth'],\n",
    "    min_samples_split=best_params['min_samples_split'],\n",
    "    min_samples_leaf=best_params['min_samples_leaf'],\n",
    "    max_features=best_params['max_features'],\n",
    "    bootstrap=best_params['bootstrap'],\n",
    "    random_state=42,\n",
    "    n_jobs=-1\n",
    ")\n",
    "best_rf.fit(X_train, y_train)\n",
    "y_pred = best_rf.predict(X_test)\n",
    "accuracy = accuracy_score(y_test, y_pred)\n",
    "print(\"Accuracy:\", accuracy)\n",
    "\n",
    "y_prob = best_rf.predict_proba(X_test)[:, 1]\n",
    "auc_score = roc_auc_score(y_test, y_prob)\n",
    "print(\"ROC AUC Score:\", auc_score)\n"
   ]
  },
  {
   "cell_type": "code",
   "execution_count": 149,
   "metadata": {},
   "outputs": [],
   "source": [
    "from sklearn.base import BaseEstimator, TransformerMixin\n",
    "from sklearn.pipeline import Pipeline\n",
    "class MultiplyColumns(BaseEstimator, TransformerMixin):\n",
    "    def __init__(self, col1_idx=0, col2_idx=1):  # Indices of columns to multiply\n",
    "        self.col1_idx = col1_idx\n",
    "        self.col2_idx = col2_idx\n",
    "        \n",
    "    def fit(self, X, y=None):\n",
    "        return self\n",
    "\n",
    "    def transform(self, X):\n",
    "        X_new = X.copy()\n",
    "        new_col = X_new[:, self.col1_idx] * X_new[:, self.col2_idx]\n",
    "        X_new = np.hstack([X_new, new_col.reshape(-1, 1)])  \n",
    "        return X_new\n",
    "\n",
    "def create_pipeline(n_estimators, max_depth, min_samples_split):\n",
    "    pipeline = Pipeline([\n",
    "        ('multiply', MultiplyColumns(col1_idx=0, col2_idx=1)), \n",
    "        ('rf', RandomForestClassifier(\n",
    "            n_estimators=n_estimators, \n",
    "            max_depth=max_depth, \n",
    "            min_samples_split=min_samples_split, \n",
    "            random_state=42))\n",
    "    ])\n",
    "    return pipeline\n",
    "\n",
    "def objective(trial):\n",
    "    n_estimators = trial.suggest_int('n_estimators', 50, 200)\n",
    "    max_depth = trial.suggest_int('max_depth', 2, 32)\n",
    "    min_samples_split = trial.suggest_int('min_samples_split', 2, 10)\n",
    "    pipeline = create_pipeline(n_estimators, max_depth, min_samples_split)\n",
    "    score = cross_val_score(pipeline, X_train, y_train, cv=5, scoring='roc_auc').mean()\n",
    "    return score\n"
   ]
  },
  {
   "cell_type": "markdown",
   "metadata": {},
   "source": [
    "### With Pipeline"
   ]
  },
  {
   "cell_type": "code",
   "execution_count": 152,
   "metadata": {},
   "outputs": [
    {
     "name": "stderr",
     "output_type": "stream",
     "text": [
      "[I 2024-10-26 19:02:17,183] A new study created in memory with name: no-name-3f3b9b5b-6969-4ba0-9433-a21dbc261537\n",
      "[I 2024-10-26 19:02:21,594] Trial 0 finished with value: 0.8798035999704371 and parameters: {'n_estimators': 59, 'max_depth': 15, 'min_samples_split': 6}. Best is trial 0 with value: 0.8798035999704371.\n",
      "[I 2024-10-26 19:02:33,092] Trial 1 finished with value: 0.8820402370715879 and parameters: {'n_estimators': 145, 'max_depth': 19, 'min_samples_split': 4}. Best is trial 1 with value: 0.8820402370715879.\n",
      "[I 2024-10-26 19:02:38,844] Trial 2 finished with value: 0.87959628551016 and parameters: {'n_estimators': 71, 'max_depth': 28, 'min_samples_split': 4}. Best is trial 1 with value: 0.8820402370715879.\n",
      "[I 2024-10-26 19:02:44,627] Trial 3 finished with value: 0.8806194947260606 and parameters: {'n_estimators': 76, 'max_depth': 27, 'min_samples_split': 9}. Best is trial 1 with value: 0.8820402370715879.\n",
      "[I 2024-10-26 19:02:59,362] Trial 4 finished with value: 0.8831410865606927 and parameters: {'n_estimators': 196, 'max_depth': 27, 'min_samples_split': 9}. Best is trial 4 with value: 0.8831410865606927.\n",
      "[I 2024-10-26 19:03:03,463] Trial 5 finished with value: 0.8815100435905341 and parameters: {'n_estimators': 75, 'max_depth': 10, 'min_samples_split': 6}. Best is trial 4 with value: 0.8831410865606927.\n",
      "[I 2024-10-26 19:03:14,711] Trial 6 finished with value: 0.8823014517984549 and parameters: {'n_estimators': 150, 'max_depth': 28, 'min_samples_split': 9}. Best is trial 4 with value: 0.8831410865606927.\n",
      "[I 2024-10-26 19:03:27,116] Trial 7 finished with value: 0.881686525903856 and parameters: {'n_estimators': 158, 'max_depth': 27, 'min_samples_split': 4}. Best is trial 4 with value: 0.8831410865606927.\n",
      "[I 2024-10-26 19:03:32,547] Trial 8 finished with value: 0.8804233037280023 and parameters: {'n_estimators': 72, 'max_depth': 20, 'min_samples_split': 8}. Best is trial 4 with value: 0.8831410865606927.\n",
      "[I 2024-10-26 19:03:37,725] Trial 9 finished with value: 0.8787321642002194 and parameters: {'n_estimators': 66, 'max_depth': 20, 'min_samples_split': 3}. Best is trial 4 with value: 0.8831410865606927.\n",
      "[I 2024-10-26 19:03:41,911] Trial 10 finished with value: 0.8578514846089356 and parameters: {'n_estimators': 196, 'max_depth': 3, 'min_samples_split': 10}. Best is trial 4 with value: 0.8831410865606927.\n",
      "[I 2024-10-26 19:03:56,994] Trial 11 finished with value: 0.8825693107410093 and parameters: {'n_estimators': 198, 'max_depth': 32, 'min_samples_split': 8}. Best is trial 4 with value: 0.8831410865606927.\n",
      "[I 2024-10-26 19:04:12,356] Trial 12 finished with value: 0.8826912209007617 and parameters: {'n_estimators': 200, 'max_depth': 32, 'min_samples_split': 7}. Best is trial 4 with value: 0.8831410865606927.\n",
      "[I 2024-10-26 19:04:26,004] Trial 13 finished with value: 0.8819021269702152 and parameters: {'n_estimators': 178, 'max_depth': 24, 'min_samples_split': 7}. Best is trial 4 with value: 0.8831410865606927.\n",
      "[I 2024-10-26 19:04:33,913] Trial 14 finished with value: 0.8819156393639169 and parameters: {'n_estimators': 106, 'max_depth': 32, 'min_samples_split': 10}. Best is trial 4 with value: 0.8831410865606927.\n",
      "[I 2024-10-26 19:04:47,072] Trial 15 finished with value: 0.8828509060395919 and parameters: {'n_estimators': 173, 'max_depth': 23, 'min_samples_split': 7}. Best is trial 4 with value: 0.8831410865606927.\n",
      "[I 2024-10-26 19:06:18,741] Trial 16 finished with value: 0.8828886063645613 and parameters: {'n_estimators': 175, 'max_depth': 14, 'min_samples_split': 7}. Best is trial 4 with value: 0.8831410865606927.\n",
      "[I 2024-10-26 19:06:27,508] Trial 17 finished with value: 0.8817110124515587 and parameters: {'n_estimators': 118, 'max_depth': 13, 'min_samples_split': 5}. Best is trial 4 with value: 0.8831410865606927.\n",
      "[I 2024-10-26 19:06:34,730] Trial 18 finished with value: 0.8766305017278693 and parameters: {'n_estimators': 179, 'max_depth': 7, 'min_samples_split': 2}. Best is trial 4 with value: 0.8831410865606927.\n",
      "[I 2024-10-26 19:06:43,371] Trial 19 finished with value: 0.8819343775452385 and parameters: {'n_estimators': 140, 'max_depth': 12, 'min_samples_split': 9}. Best is trial 4 with value: 0.8831410865606927.\n"
     ]
    },
    {
     "name": "stdout",
     "output_type": "stream",
     "text": [
      "Best Parameters: {'n_estimators': 196, 'max_depth': 27, 'min_samples_split': 9}\n",
      "Test ROC-AUC: 0.8856\n"
     ]
    }
   ],
   "source": [
    "class MultiplyColumns(BaseEstimator, TransformerMixin):\n",
    "    def __init__(self, col1_idx=0, col2_idx=1):\n",
    "        self.col1_idx = col1_idx\n",
    "        self.col2_idx = col2_idx\n",
    "        \n",
    "    def fit(self, X, y=None):\n",
    "        return self\n",
    "\n",
    "    def transform(self, X):\n",
    "        if isinstance(X, pd.DataFrame):\n",
    "            new_col = X.iloc[:, self.col1_idx] * X.iloc[:, self.col2_idx]\n",
    "            X_new = X.copy()\n",
    "            X_new['new_column'] = new_col  \n",
    "            return X_new\n",
    "        else:\n",
    "            X_new = X.copy()\n",
    "            new_col = X_new[:, self.col1_idx] * X_new[:, self.col2_idx]\n",
    "            return np.hstack([X_new, new_col.reshape(-1, 1)])\n",
    "\n",
    "\n",
    "X_train, X_test, y_train, y_test = train_test_split(X, y, test_size=0.2, random_state=42)\n",
    "def create_pipeline(n_estimators, max_depth, min_samples_split):\n",
    "    pipeline = Pipeline([\n",
    "        ('multiply', MultiplyColumns(col1_idx=0, col2_idx=1)),  \n",
    "        ('rf', RandomForestClassifier(\n",
    "            n_estimators=n_estimators,\n",
    "            max_depth=max_depth,\n",
    "            min_samples_split=min_samples_split,\n",
    "            random_state=42))\n",
    "    ])\n",
    "    return pipeline\n",
    "\n",
    "def objective(trial):\n",
    "    n_estimators = trial.suggest_int('n_estimators', 50, 200)\n",
    "    max_depth = trial.suggest_int('max_depth', 2, 32)\n",
    "    min_samples_split = trial.suggest_int('min_samples_split', 2, 10)\n",
    "\n",
    "    pipeline = create_pipeline(n_estimators, max_depth, min_samples_split)\n",
    "    score = cross_val_score(pipeline, X_train, y_train, cv=5, scoring='roc_auc').mean()\n",
    "    return score\n",
    "\n",
    "study = optuna.create_study(direction='maximize')\n",
    "study.optimize(objective, n_trials=20)\n",
    "\n",
    "print(\"Best Parameters:\", study.best_params)\n",
    "best_pipeline = create_pipeline(**study.best_params)\n",
    "best_pipeline.fit(X_train, y_train)\n",
    "\n",
    "y_pred_proba = best_pipeline.predict_proba(X_test)[:, 1]  \n",
    "roc_auc = roc_auc_score(y_test, y_pred_proba)\n",
    "print(f\"Test ROC-AUC: {roc_auc:.4f}\")\n"
   ]
  },
  {
   "cell_type": "markdown",
   "metadata": {},
   "source": [
    "## Stacking ensemble (Best model)"
   ]
  },
  {
   "cell_type": "code",
   "execution_count": 153,
   "metadata": {},
   "outputs": [
    {
     "name": "stderr",
     "output_type": "stream",
     "text": [
      "[I 2024-10-27 17:16:37,260] A new study created in memory with name: no-name-9ec18398-f844-4b6d-9ef8-18f548d793a6\n",
      "[I 2024-10-27 17:16:40,732] Trial 0 finished with value: 0.8850784674408053 and parameters: {'n_estimators': 230, 'max_depth': 19, 'min_samples_split': 14, 'min_samples_leaf': 13, 'max_features': 'sqrt'}. Best is trial 0 with value: 0.8850784674408053.\n",
      "[I 2024-10-27 17:16:43,879] Trial 1 finished with value: 0.8841995409839801 and parameters: {'n_estimators': 210, 'max_depth': 17, 'min_samples_split': 7, 'min_samples_leaf': 14, 'max_features': 'log2'}. Best is trial 0 with value: 0.8850784674408053.\n",
      "[I 2024-10-27 17:16:45,354] Trial 2 finished with value: 0.8840472000592279 and parameters: {'n_estimators': 97, 'max_depth': 20, 'min_samples_split': 2, 'min_samples_leaf': 15, 'max_features': 'log2'}. Best is trial 0 with value: 0.8850784674408053.\n",
      "[I 2024-10-27 17:16:48,126] Trial 3 finished with value: 0.8831113237239905 and parameters: {'n_estimators': 201, 'max_depth': 10, 'min_samples_split': 4, 'min_samples_leaf': 14, 'max_features': 'sqrt'}. Best is trial 0 with value: 0.8850784674408053.\n",
      "[I 2024-10-27 17:16:56,217] Trial 4 finished with value: 0.8834890912507902 and parameters: {'n_estimators': 120, 'max_depth': 21, 'min_samples_split': 8, 'min_samples_leaf': 13, 'max_features': None}. Best is trial 0 with value: 0.8850784674408053.\n",
      "[I 2024-10-27 17:17:02,925] Trial 5 finished with value: 0.883407463091733 and parameters: {'n_estimators': 101, 'max_depth': 27, 'min_samples_split': 20, 'min_samples_leaf': 14, 'max_features': None}. Best is trial 0 with value: 0.8850784674408053.\n",
      "[I 2024-10-27 17:17:15,129] Trial 6 finished with value: 0.8819305629115815 and parameters: {'n_estimators': 216, 'max_depth': 10, 'min_samples_split': 17, 'min_samples_leaf': 4, 'max_features': None}. Best is trial 0 with value: 0.8850784674408053.\n",
      "[I 2024-10-27 17:17:22,227] Trial 7 finished with value: 0.8832707833835443 and parameters: {'n_estimators': 118, 'max_depth': 12, 'min_samples_split': 13, 'min_samples_leaf': 15, 'max_features': None}. Best is trial 0 with value: 0.8850784674408053.\n",
      "[I 2024-10-27 17:17:25,364] Trial 8 finished with value: 0.884882464942604 and parameters: {'n_estimators': 192, 'max_depth': 22, 'min_samples_split': 17, 'min_samples_leaf': 13, 'max_features': 'sqrt'}. Best is trial 0 with value: 0.8850784674408053.\n",
      "[I 2024-10-27 17:17:29,454] Trial 9 finished with value: 0.886490349843103 and parameters: {'n_estimators': 258, 'max_depth': 28, 'min_samples_split': 2, 'min_samples_leaf': 10, 'max_features': 'log2'}. Best is trial 9 with value: 0.886490349843103.\n",
      "[I 2024-10-27 17:17:33,612] Trial 10 finished with value: 0.8840320134249846 and parameters: {'n_estimators': 291, 'max_depth': 29, 'min_samples_split': 8, 'min_samples_leaf': 20, 'max_features': 'log2'}. Best is trial 9 with value: 0.886490349843103.\n",
      "[I 2024-10-27 17:17:35,666] Trial 11 finished with value: 0.8713972083169602 and parameters: {'n_estimators': 273, 'max_depth': 5, 'min_samples_split': 13, 'min_samples_leaf': 7, 'max_features': 'sqrt'}. Best is trial 9 with value: 0.886490349843103.\n",
      "[I 2024-10-27 17:17:39,830] Trial 12 finished with value: 0.8860129200290824 and parameters: {'n_estimators': 252, 'max_depth': 25, 'min_samples_split': 14, 'min_samples_leaf': 9, 'max_features': 'sqrt'}. Best is trial 9 with value: 0.886490349843103.\n",
      "[I 2024-10-27 17:17:44,134] Trial 13 finished with value: 0.8860831582124573 and parameters: {'n_estimators': 260, 'max_depth': 25, 'min_samples_split': 10, 'min_samples_leaf': 8, 'max_features': 'log2'}. Best is trial 9 with value: 0.886490349843103.\n",
      "[I 2024-10-27 17:17:47,313] Trial 14 finished with value: 0.8851233154700548 and parameters: {'n_estimators': 156, 'max_depth': 25, 'min_samples_split': 5, 'min_samples_leaf': 1, 'max_features': 'log2'}. Best is trial 9 with value: 0.886490349843103.\n",
      "[I 2024-10-27 17:17:48,262] Trial 15 finished with value: 0.8836646867092273 and parameters: {'n_estimators': 52, 'max_depth': 30, 'min_samples_split': 11, 'min_samples_leaf': 7, 'max_features': 'log2'}. Best is trial 9 with value: 0.886490349843103.\n",
      "[I 2024-10-27 17:17:52,311] Trial 16 finished with value: 0.8863769246685991 and parameters: {'n_estimators': 252, 'max_depth': 24, 'min_samples_split': 10, 'min_samples_leaf': 10, 'max_features': 'log2'}. Best is trial 9 with value: 0.886490349843103.\n",
      "[I 2024-10-27 17:17:57,007] Trial 17 finished with value: 0.8862829573692194 and parameters: {'n_estimators': 290, 'max_depth': 17, 'min_samples_split': 2, 'min_samples_leaf': 10, 'max_features': 'log2'}. Best is trial 9 with value: 0.886490349843103.\n",
      "[I 2024-10-27 17:18:00,432] Trial 18 finished with value: 0.8841250315597242 and parameters: {'n_estimators': 239, 'max_depth': 28, 'min_samples_split': 5, 'min_samples_leaf': 18, 'max_features': 'log2'}. Best is trial 9 with value: 0.886490349843103.\n",
      "[I 2024-10-27 17:18:03,046] Trial 19 finished with value: 0.8846371058831124 and parameters: {'n_estimators': 168, 'max_depth': 24, 'min_samples_split': 10, 'min_samples_leaf': 11, 'max_features': 'log2'}. Best is trial 9 with value: 0.886490349843103.\n",
      "[I 2024-10-27 17:18:07,421] Trial 20 finished with value: 0.8866929964937859 and parameters: {'n_estimators': 267, 'max_depth': 14, 'min_samples_split': 6, 'min_samples_leaf': 5, 'max_features': 'log2'}. Best is trial 20 with value: 0.8866929964937859.\n",
      "[I 2024-10-27 17:18:12,609] Trial 21 finished with value: 0.8862506857714525 and parameters: {'n_estimators': 300, 'max_depth': 14, 'min_samples_split': 6, 'min_samples_leaf': 3, 'max_features': 'log2'}. Best is trial 20 with value: 0.8866929964937859.\n",
      "[I 2024-10-27 17:18:16,966] Trial 22 finished with value: 0.8866982168993068 and parameters: {'n_estimators': 264, 'max_depth': 14, 'min_samples_split': 3, 'min_samples_leaf': 5, 'max_features': 'log2'}. Best is trial 22 with value: 0.8866982168993068.\n",
      "[I 2024-10-27 17:18:21,558] Trial 23 finished with value: 0.8856906786337344 and parameters: {'n_estimators': 274, 'max_depth': 15, 'min_samples_split': 3, 'min_samples_leaf': 5, 'max_features': 'log2'}. Best is trial 22 with value: 0.8866982168993068.\n",
      "[I 2024-10-27 17:18:23,774] Trial 24 finished with value: 0.8786687586255336 and parameters: {'n_estimators': 231, 'max_depth': 7, 'min_samples_split': 4, 'min_samples_leaf': 6, 'max_features': 'log2'}. Best is trial 22 with value: 0.8866982168993068.\n",
      "[I 2024-10-27 17:18:28,361] Trial 25 finished with value: 0.887219782869097 and parameters: {'n_estimators': 273, 'max_depth': 14, 'min_samples_split': 2, 'min_samples_leaf': 2, 'max_features': 'log2'}. Best is trial 25 with value: 0.887219782869097.\n",
      "[I 2024-10-27 17:18:33,042] Trial 26 finished with value: 0.8863498734763535 and parameters: {'n_estimators': 274, 'max_depth': 14, 'min_samples_split': 4, 'min_samples_leaf': 1, 'max_features': 'log2'}. Best is trial 25 with value: 0.887219782869097.\n",
      "[I 2024-10-27 17:18:36,347] Trial 27 finished with value: 0.8844183234335461 and parameters: {'n_estimators': 235, 'max_depth': 11, 'min_samples_split': 6, 'min_samples_leaf': 3, 'max_features': 'log2'}. Best is trial 25 with value: 0.887219782869097.\n",
      "[I 2024-10-27 17:18:44,981] Trial 28 finished with value: 0.8798499940202629 and parameters: {'n_estimators': 186, 'max_depth': 8, 'min_samples_split': 8, 'min_samples_leaf': 3, 'max_features': None}. Best is trial 25 with value: 0.887219782869097.\n",
      "[I 2024-10-27 17:18:48,674] Trial 29 finished with value: 0.8869449997057589 and parameters: {'n_estimators': 224, 'max_depth': 16, 'min_samples_split': 3, 'min_samples_leaf': 5, 'max_features': 'log2'}. Best is trial 25 with value: 0.887219782869097.\n",
      "[I 2024-10-27 17:18:52,833] Trial 30 finished with value: 0.8864751632088598 and parameters: {'n_estimators': 225, 'max_depth': 18, 'min_samples_split': 3, 'min_samples_leaf': 2, 'max_features': 'sqrt'}. Best is trial 25 with value: 0.887219782869097.\n",
      "[I 2024-10-27 17:18:57,345] Trial 31 finished with value: 0.8855976604989949 and parameters: {'n_estimators': 278, 'max_depth': 15, 'min_samples_split': 3, 'min_samples_leaf': 5, 'max_features': 'log2'}. Best is trial 25 with value: 0.887219782869097.\n",
      "[I 2024-10-27 17:19:01,155] Trial 32 finished with value: 0.8861975325516013 and parameters: {'n_estimators': 246, 'max_depth': 13, 'min_samples_split': 6, 'min_samples_leaf': 5, 'max_features': 'log2'}. Best is trial 25 with value: 0.887219782869097.\n",
      "[I 2024-10-27 17:19:04,747] Trial 33 finished with value: 0.886129192697507 and parameters: {'n_estimators': 212, 'max_depth': 16, 'min_samples_split': 2, 'min_samples_leaf': 4, 'max_features': 'log2'}. Best is trial 25 with value: 0.887219782869097.\n",
      "[I 2024-10-27 17:19:09,050] Trial 34 finished with value: 0.8865767238253612 and parameters: {'n_estimators': 264, 'max_depth': 19, 'min_samples_split': 5, 'min_samples_leaf': 7, 'max_features': 'log2'}. Best is trial 25 with value: 0.887219782869097.\n",
      "[I 2024-10-27 17:19:12,575] Trial 35 finished with value: 0.8856394237431636 and parameters: {'n_estimators': 224, 'max_depth': 12, 'min_samples_split': 4, 'min_samples_leaf': 2, 'max_features': 'log2'}. Best is trial 25 with value: 0.887219782869097.\n",
      "[I 2024-10-27 17:19:17,289] Trial 36 finished with value: 0.88619088839912 and parameters: {'n_estimators': 288, 'max_depth': 18, 'min_samples_split': 3, 'min_samples_leaf': 6, 'max_features': 'log2'}. Best is trial 25 with value: 0.887219782869097.\n",
      "[I 2024-10-27 17:19:32,838] Trial 37 finished with value: 0.8831545107151197 and parameters: {'n_estimators': 202, 'max_depth': 16, 'min_samples_split': 7, 'min_samples_leaf': 4, 'max_features': None}. Best is trial 25 with value: 0.887219782869097.\n",
      "[I 2024-10-27 17:19:38,513] Trial 38 finished with value: 0.8873968020744942 and parameters: {'n_estimators': 300, 'max_depth': 20, 'min_samples_split': 2, 'min_samples_leaf': 2, 'max_features': 'log2'}. Best is trial 38 with value: 0.8873968020744942.\n",
      "[I 2024-10-27 17:19:44,194] Trial 39 finished with value: 0.8882477281744336 and parameters: {'n_estimators': 300, 'max_depth': 21, 'min_samples_split': 2, 'min_samples_leaf': 2, 'max_features': 'sqrt'}. Best is trial 39 with value: 0.8882477281744336.\n",
      "[I 2024-10-27 17:19:50,141] Trial 40 finished with value: 0.8864381457878923 and parameters: {'n_estimators': 298, 'max_depth': 21, 'min_samples_split': 2, 'min_samples_leaf': 1, 'max_features': 'sqrt'}. Best is trial 39 with value: 0.8882477281744336.\n",
      "[I 2024-10-27 17:19:55,516] Trial 41 finished with value: 0.8871879858536502 and parameters: {'n_estimators': 284, 'max_depth': 20, 'min_samples_split': 2, 'min_samples_leaf': 2, 'max_features': 'sqrt'}. Best is trial 39 with value: 0.8882477281744336.\n",
      "[I 2024-10-27 17:20:00,791] Trial 42 finished with value: 0.8871846637774096 and parameters: {'n_estimators': 280, 'max_depth': 20, 'min_samples_split': 2, 'min_samples_leaf': 2, 'max_features': 'sqrt'}. Best is trial 39 with value: 0.8882477281744336.\n",
      "[I 2024-10-27 17:20:06,141] Trial 43 finished with value: 0.8872558511254245 and parameters: {'n_estimators': 283, 'max_depth': 20, 'min_samples_split': 2, 'min_samples_leaf': 2, 'max_features': 'sqrt'}. Best is trial 39 with value: 0.8882477281744336.\n",
      "[I 2024-10-27 17:20:11,080] Trial 44 finished with value: 0.8867167256097909 and parameters: {'n_estimators': 286, 'max_depth': 22, 'min_samples_split': 18, 'min_samples_leaf': 2, 'max_features': 'sqrt'}. Best is trial 39 with value: 0.8882477281744336.\n",
      "[I 2024-10-27 17:20:16,491] Trial 45 finished with value: 0.8865729271668006 and parameters: {'n_estimators': 296, 'max_depth': 22, 'min_samples_split': 4, 'min_samples_leaf': 3, 'max_features': 'sqrt'}. Best is trial 39 with value: 0.8882477281744336.\n",
      "[I 2024-10-27 17:20:19,308] Trial 46 finished with value: 0.8858627147247706 and parameters: {'n_estimators': 143, 'max_depth': 20, 'min_samples_split': 2, 'min_samples_leaf': 1, 'max_features': 'sqrt'}. Best is trial 39 with value: 0.8882477281744336.\n",
      "[I 2024-10-27 17:20:24,427] Trial 47 finished with value: 0.887769823778093 and parameters: {'n_estimators': 285, 'max_depth': 19, 'min_samples_split': 5, 'min_samples_leaf': 3, 'max_features': 'sqrt'}. Best is trial 39 with value: 0.8882477281744336.\n",
      "[I 2024-10-27 17:20:28,980] Trial 48 finished with value: 0.8854287091930393 and parameters: {'n_estimators': 245, 'max_depth': 23, 'min_samples_split': 5, 'min_samples_leaf': 4, 'max_features': 'sqrt'}. Best is trial 39 with value: 0.8882477281744336.\n",
      "[I 2024-10-27 17:20:34,478] Trial 49 finished with value: 0.8875562617340478 and parameters: {'n_estimators': 299, 'max_depth': 19, 'min_samples_split': 4, 'min_samples_leaf': 3, 'max_features': 'sqrt'}. Best is trial 39 with value: 0.8882477281744336.\n"
     ]
    },
    {
     "name": "stdout",
     "output_type": "stream",
     "text": [
      "Final Model Accuracy: 0.8003333333333333\n",
      "Final Model ROC AUC Score: 0.8883191528136087\n"
     ]
    }
   ],
   "source": [
    "import optuna\n",
    "from sklearn.ensemble import RandomForestClassifier, StackingClassifier\n",
    "\n",
    "X_train, X_test, y_train, y_test = train_test_split(X, y, test_size=0.2, random_state=42)\n",
    "\n",
    "def rf_objective(trial):\n",
    "    n_estimators = trial.suggest_int('n_estimators', 50, 300)\n",
    "    max_depth = trial.suggest_int('max_depth', 5, 30)\n",
    "    min_samples_split = trial.suggest_int('min_samples_split', 2, 20)\n",
    "    min_samples_leaf = trial.suggest_int('min_samples_leaf', 1, 20)\n",
    "    max_features = trial.suggest_categorical('max_features', ['sqrt', 'log2', None])\n",
    "    \n",
    "    rf_model = RandomForestClassifier(\n",
    "        n_estimators=n_estimators,\n",
    "        max_depth=max_depth,\n",
    "        min_samples_split=min_samples_split,\n",
    "        min_samples_leaf=min_samples_leaf,\n",
    "        max_features=max_features,\n",
    "        random_state=42\n",
    "    )\n",
    "    \n",
    "    rf_model.fit(X_train, y_train)\n",
    "    y_prob = rf_model.predict_proba(X_test)[:, 1]\n",
    "    auc_score = roc_auc_score(y_test, y_prob)\n",
    "    return auc_score\n",
    "\n",
    "study = optuna.create_study(direction='maximize')\n",
    "study.optimize(rf_objective, n_trials=50)\n",
    "\n",
    "best_rf_params = study.best_params\n",
    "rf_model_optimized = RandomForestClassifier(**best_rf_params, random_state=42)\n",
    "\n",
    "dt_model = DecisionTreeClassifier(random_state=42)\n",
    "meta_model = LogisticRegression()\n",
    "\n",
    "stacking_ensemble = StackingClassifier(\n",
    "    estimators=[('rf', rf_model_optimized), ('dt', dt_model)],\n",
    "    final_estimator=meta_model,\n",
    "    cv=5\n",
    ")\n",
    "\n",
    "stacking_ensemble.fit(X_train, y_train)\n",
    "\n",
    "y_pred = stacking_ensemble.predict(X_test)\n",
    "accuracy = accuracy_score(y_test, y_pred)\n",
    "print(\"Final Model Accuracy:\", accuracy)\n",
    "y_prob = stacking_ensemble.predict_proba(X_test)[:, 1]\n",
    "auc_score = roc_auc_score(y_test, y_prob)\n",
    "print(\"Final Model ROC AUC Score:\", auc_score)"
   ]
  },
  {
   "cell_type": "code",
   "execution_count": 155,
   "metadata": {},
   "outputs": [],
   "source": [
    "y_prob_test = stacking_ensemble.predict_proba(test_df)[:, 1]\n"
   ]
  },
  {
   "cell_type": "code",
   "execution_count": 156,
   "metadata": {},
   "outputs": [],
   "source": [
    "subm = pd.read_csv(\"sample_submission.csv\")\n",
    "subm['smoking'] = y_prob_test\n",
    "subm.to_csv(\"submission.csv\", index=False)"
   ]
  },
  {
   "cell_type": "code",
   "execution_count": 157,
   "metadata": {},
   "outputs": [
    {
     "data": {
      "image/png": "[encoded data removed]",
      "text/plain": [
       "<Figure size 1000x600 with 1 Axes>"
      ]
     },
     "metadata": {},
     "output_type": "display_data"
    }
   ],
   "source": [
    "\n",
    "from sklearn.model_selection import learning_curve\n",
    "\n",
    "def plot_learning_curve(estimator, X, y, cv=5, scoring='roc_auc'):\n",
    "    train_sizes, train_scores, test_scores = learning_curve(\n",
    "        estimator, X, y, cv=cv, scoring=scoring, n_jobs=-1,\n",
    "        train_sizes=np.linspace(0.1, 1.0, 10), random_state=42\n",
    "    )\n",
    "    \n",
    "    train_scores_mean = np.mean(train_scores, axis=1)\n",
    "    train_scores_std = np.std(train_scores, axis=1)\n",
    "    test_scores_mean = np.mean(test_scores, axis=1)\n",
    "    test_scores_std = np.std(test_scores, axis=1)\n",
    "    plt.figure(figsize=(10, 6))\n",
    "    plt.plot(train_sizes, train_scores_mean, 'o-', color=\"blue\", label=\"Training score\")\n",
    "    plt.plot(train_sizes, test_scores_mean, 'o-', color=\"orange\", label=\"Cross-validation score\")\n",
    "    plt.fill_between(train_sizes, train_scores_mean - train_scores_std,\n",
    "                     train_scores_mean + train_scores_std, color=\"blue\", alpha=0.1)\n",
    "    plt.fill_between(train_sizes, test_scores_mean - test_scores_std,\n",
    "                     test_scores_mean + test_scores_std, color=\"orange\", alpha=0.1)\n",
    "    \n",
    "    plt.title(\"Learning Curve\")\n",
    "    plt.xlabel(\"Training Set Size\")\n",
    "    plt.ylabel(\"Score\")\n",
    "    plt.legend(loc=\"best\")\n",
    "    plt.grid()\n",
    "    plt.show()\n",
    "plot_learning_curve(stacking_ensemble, X, y, cv=5, scoring='roc_auc')"
   ]
  },
  {
   "cell_type": "code",
   "execution_count": 158,
   "metadata": {},
   "outputs": [
    {
     "name": "stderr",
     "output_type": "stream",
     "text": [
      "[I 2024-10-27 17:39:29,156] A new study created in memory with name: no-name-3d26e258-e390-4030-8574-32d3929cb26c\n",
      "[I 2024-10-27 17:39:42,984] Trial 0 finished with value: 0.8808278543438612 and parameters: {'rf_n_estimators': 109, 'rf_max_depth': 23, 'rf_min_samples_split': 7, 'rf_min_samples_leaf': 14, 'rf_max_features': 'log2', 'dt_max_depth': 18, 'dt_min_samples_split': 3, 'dt_min_samples_leaf': 3}. Best is trial 0 with value: 0.8808278543438612.\n",
      "[I 2024-10-27 17:40:06,631] Trial 1 finished with value: 0.8822979430553388 and parameters: {'rf_n_estimators': 277, 'rf_max_depth': 29, 'rf_min_samples_split': 8, 'rf_min_samples_leaf': 11, 'rf_max_features': 'sqrt', 'dt_max_depth': 7, 'dt_min_samples_split': 8, 'dt_min_samples_leaf': 14}. Best is trial 1 with value: 0.8822979430553388.\n",
      "[I 2024-10-27 17:40:35,606] Trial 2 finished with value: 0.878189727445314 and parameters: {'rf_n_estimators': 75, 'rf_max_depth': 27, 'rf_min_samples_split': 19, 'rf_min_samples_leaf': 10, 'rf_max_features': None, 'dt_max_depth': 16, 'dt_min_samples_split': 20, 'dt_min_samples_leaf': 19}. Best is trial 1 with value: 0.8822979430553388.\n",
      "[I 2024-10-27 17:40:47,412] Trial 3 finished with value: 0.8691191039118007 and parameters: {'rf_n_estimators': 261, 'rf_max_depth': 5, 'rf_min_samples_split': 10, 'rf_min_samples_leaf': 18, 'rf_max_features': 'log2', 'dt_max_depth': 3, 'dt_min_samples_split': 18, 'dt_min_samples_leaf': 8}. Best is trial 1 with value: 0.8822979430553388.\n",
      "[I 2024-10-27 17:40:56,943] Trial 4 finished with value: 0.8800575732487452 and parameters: {'rf_n_estimators': 124, 'rf_max_depth': 18, 'rf_min_samples_split': 14, 'rf_min_samples_leaf': 20, 'rf_max_features': 'sqrt', 'dt_max_depth': 12, 'dt_min_samples_split': 10, 'dt_min_samples_leaf': 18}. Best is trial 1 with value: 0.8822979430553388.\n",
      "[I 2024-10-27 17:42:22,593] Trial 5 finished with value: 0.8793002819685691 and parameters: {'rf_n_estimators': 243, 'rf_max_depth': 18, 'rf_min_samples_split': 17, 'rf_min_samples_leaf': 16, 'rf_max_features': None, 'dt_max_depth': 6, 'dt_min_samples_split': 19, 'dt_min_samples_leaf': 9}. Best is trial 1 with value: 0.8822979430553388.\n",
      "[I 2024-10-27 17:42:29,520] Trial 6 finished with value: 0.8734338127869051 and parameters: {'rf_n_estimators': 93, 'rf_max_depth': 6, 'rf_min_samples_split': 18, 'rf_min_samples_leaf': 12, 'rf_max_features': 'sqrt', 'dt_max_depth': 18, 'dt_min_samples_split': 5, 'dt_min_samples_leaf': 1}. Best is trial 1 with value: 0.8822979430553388.\n",
      "[I 2024-10-27 17:42:38,509] Trial 7 finished with value: 0.8800445834338053 and parameters: {'rf_n_estimators': 98, 'rf_max_depth': 11, 'rf_min_samples_split': 6, 'rf_min_samples_leaf': 17, 'rf_max_features': 'sqrt', 'dt_max_depth': 12, 'dt_min_samples_split': 18, 'dt_min_samples_leaf': 8}. Best is trial 1 with value: 0.8822979430553388.\n",
      "[I 2024-10-27 17:42:54,894] Trial 8 finished with value: 0.8768876104787493 and parameters: {'rf_n_estimators': 231, 'rf_max_depth': 7, 'rf_min_samples_split': 6, 'rf_min_samples_leaf': 7, 'rf_max_features': 'sqrt', 'dt_max_depth': 15, 'dt_min_samples_split': 19, 'dt_min_samples_leaf': 8}. Best is trial 1 with value: 0.8822979430553388.\n",
      "[I 2024-10-27 17:43:09,197] Trial 9 finished with value: 0.878646610591477 and parameters: {'rf_n_estimators': 189, 'rf_max_depth': 9, 'rf_min_samples_split': 18, 'rf_min_samples_leaf': 19, 'rf_max_features': 'sqrt', 'dt_max_depth': 3, 'dt_min_samples_split': 18, 'dt_min_samples_leaf': 13}. Best is trial 1 with value: 0.8822979430553388.\n",
      "[I 2024-10-27 17:43:43,479] Trial 10 finished with value: 0.882331761366648 and parameters: {'rf_n_estimators': 289, 'rf_max_depth': 29, 'rf_min_samples_split': 3, 'rf_min_samples_leaf': 3, 'rf_max_features': 'log2', 'dt_max_depth': 8, 'dt_min_samples_split': 10, 'dt_min_samples_leaf': 14}. Best is trial 10 with value: 0.882331761366648.\n",
      "[I 2024-10-27 17:44:19,124] Trial 11 finished with value: 0.8824955524814653 and parameters: {'rf_n_estimators': 291, 'rf_max_depth': 30, 'rf_min_samples_split': 3, 'rf_min_samples_leaf': 2, 'rf_max_features': 'log2', 'dt_max_depth': 8, 'dt_min_samples_split': 10, 'dt_min_samples_leaf': 14}. Best is trial 11 with value: 0.8824955524814653.\n",
      "[I 2024-10-27 17:44:52,751] Trial 12 finished with value: 0.8820211256197223 and parameters: {'rf_n_estimators': 294, 'rf_max_depth': 25, 'rf_min_samples_split': 2, 'rf_min_samples_leaf': 1, 'rf_max_features': 'log2', 'dt_max_depth': 9, 'dt_min_samples_split': 14, 'dt_min_samples_leaf': 15}. Best is trial 11 with value: 0.8824955524814653.\n",
      "[I 2024-10-27 17:45:16,574] Trial 13 finished with value: 0.8813135539760404 and parameters: {'rf_n_estimators': 200, 'rf_max_depth': 30, 'rf_min_samples_split': 2, 'rf_min_samples_leaf': 1, 'rf_max_features': 'log2', 'dt_max_depth': 9, 'dt_min_samples_split': 13, 'dt_min_samples_leaf': 12}. Best is trial 11 with value: 0.8824955524814653.\n",
      "[I 2024-10-27 17:45:47,623] Trial 14 finished with value: 0.882845008364993 and parameters: {'rf_n_estimators': 296, 'rf_max_depth': 22, 'rf_min_samples_split': 4, 'rf_min_samples_leaf': 5, 'rf_max_features': 'log2', 'dt_max_depth': 6, 'dt_min_samples_split': 8, 'dt_min_samples_leaf': 17}. Best is trial 14 with value: 0.882845008364993.\n",
      "[I 2024-10-27 17:46:03,789] Trial 15 finished with value: 0.8820901060162999 and parameters: {'rf_n_estimators': 145, 'rf_max_depth': 22, 'rf_min_samples_split': 4, 'rf_min_samples_leaf': 7, 'rf_max_features': 'log2', 'dt_max_depth': 5, 'dt_min_samples_split': 7, 'dt_min_samples_leaf': 17}. Best is trial 14 with value: 0.882845008364993.\n",
      "[I 2024-10-27 17:46:26,887] Trial 16 finished with value: 0.8824014136502051 and parameters: {'rf_n_estimators': 223, 'rf_max_depth': 15, 'rf_min_samples_split': 11, 'rf_min_samples_leaf': 4, 'rf_max_features': 'log2', 'dt_max_depth': 11, 'dt_min_samples_split': 13, 'dt_min_samples_leaf': 16}. Best is trial 14 with value: 0.882845008364993.\n",
      "[I 2024-10-27 17:46:44,320] Trial 17 finished with value: 0.8821586384882245 and parameters: {'rf_n_estimators': 154, 'rf_max_depth': 21, 'rf_min_samples_split': 5, 'rf_min_samples_leaf': 6, 'rf_max_features': 'log2', 'dt_max_depth': 5, 'dt_min_samples_split': 6, 'dt_min_samples_leaf': 20}. Best is trial 14 with value: 0.882845008364993.\n",
      "[I 2024-10-27 17:48:46,094] Trial 18 finished with value: 0.879713865731599 and parameters: {'rf_n_estimators': 268, 'rf_max_depth': 14, 'rf_min_samples_split': 9, 'rf_min_samples_leaf': 4, 'rf_max_features': None, 'dt_max_depth': 10, 'dt_min_samples_split': 2, 'dt_min_samples_leaf': 11}. Best is trial 14 with value: 0.882845008364993.\n",
      "[I 2024-10-27 17:49:15,645] Trial 19 finished with value: 0.8822930158841548 and parameters: {'rf_n_estimators': 300, 'rf_max_depth': 24, 'rf_min_samples_split': 13, 'rf_min_samples_leaf': 9, 'rf_max_features': 'log2', 'dt_max_depth': 14, 'dt_min_samples_split': 9, 'dt_min_samples_leaf': 17}. Best is trial 14 with value: 0.882845008364993.\n",
      "[I 2024-10-27 17:49:44,074] Trial 20 finished with value: 0.8825668471554172 and parameters: {'rf_n_estimators': 251, 'rf_max_depth': 20, 'rf_min_samples_split': 4, 'rf_min_samples_leaf': 3, 'rf_max_features': 'log2', 'dt_max_depth': 7, 'dt_min_samples_split': 12, 'dt_min_samples_leaf': 10}. Best is trial 14 with value: 0.882845008364993.\n",
      "[I 2024-10-27 17:50:12,486] Trial 21 finished with value: 0.8822606160009137 and parameters: {'rf_n_estimators': 255, 'rf_max_depth': 19, 'rf_min_samples_split': 4, 'rf_min_samples_leaf': 3, 'rf_max_features': 'log2', 'dt_max_depth': 7, 'dt_min_samples_split': 15, 'dt_min_samples_leaf': 5}. Best is trial 14 with value: 0.882845008364993.\n",
      "[I 2024-10-27 17:50:33,136] Trial 22 finished with value: 0.8826497132162409 and parameters: {'rf_n_estimators': 219, 'rf_max_depth': 15, 'rf_min_samples_split': 4, 'rf_min_samples_leaf': 5, 'rf_max_features': 'log2', 'dt_max_depth': 5, 'dt_min_samples_split': 12, 'dt_min_samples_leaf': 10}. Best is trial 14 with value: 0.882845008364993.\n",
      "[I 2024-10-27 17:50:54,688] Trial 23 finished with value: 0.8827630381534753 and parameters: {'rf_n_estimators': 215, 'rf_max_depth': 15, 'rf_min_samples_split': 7, 'rf_min_samples_leaf': 5, 'rf_max_features': 'log2', 'dt_max_depth': 4, 'dt_min_samples_split': 12, 'dt_min_samples_leaf': 10}. Best is trial 14 with value: 0.882845008364993.\n",
      "[I 2024-10-27 17:51:14,913] Trial 24 finished with value: 0.882694505681551 and parameters: {'rf_n_estimators': 208, 'rf_max_depth': 15, 'rf_min_samples_split': 8, 'rf_min_samples_leaf': 6, 'rf_max_features': 'log2', 'dt_max_depth': 4, 'dt_min_samples_split': 16, 'dt_min_samples_leaf': 6}. Best is trial 14 with value: 0.882845008364993.\n",
      "[I 2024-10-27 17:52:22,446] Trial 25 finished with value: 0.8789323865201555 and parameters: {'rf_n_estimators': 171, 'rf_max_depth': 12, 'rf_min_samples_split': 8, 'rf_min_samples_leaf': 8, 'rf_max_features': None, 'dt_max_depth': 3, 'dt_min_samples_split': 15, 'dt_min_samples_leaf': 6}. Best is trial 14 with value: 0.882845008364993.\n",
      "[I 2024-10-27 17:52:46,249] Trial 26 finished with value: 0.8826223898124018 and parameters: {'rf_n_estimators': 197, 'rf_max_depth': 16, 'rf_min_samples_split': 13, 'rf_min_samples_leaf': 5, 'rf_max_features': 'log2', 'dt_max_depth': 4, 'dt_min_samples_split': 16, 'dt_min_samples_leaf': 6}. Best is trial 14 with value: 0.882845008364993.\n",
      "[I 2024-10-27 17:52:54,181] Trial 27 finished with value: 0.8797998672649946 and parameters: {'rf_n_estimators': 53, 'rf_max_depth': 12, 'rf_min_samples_split': 7, 'rf_min_samples_leaf': 6, 'rf_max_features': 'log2', 'dt_max_depth': 20, 'dt_min_samples_split': 5, 'dt_min_samples_leaf': 4}. Best is trial 14 with value: 0.882845008364993.\n",
      "[I 2024-10-27 17:53:25,949] Trial 28 finished with value: 0.8820538241193987 and parameters: {'rf_n_estimators': 211, 'rf_max_depth': 16, 'rf_min_samples_split': 10, 'rf_min_samples_leaf': 9, 'rf_max_features': 'log2', 'dt_max_depth': 5, 'dt_min_samples_split': 16, 'dt_min_samples_leaf': 2}. Best is trial 14 with value: 0.882845008364993.\n",
      "[I 2024-10-27 17:53:45,177] Trial 29 finished with value: 0.8813220645444494 and parameters: {'rf_n_estimators': 167, 'rf_max_depth': 23, 'rf_min_samples_split': 7, 'rf_min_samples_leaf': 13, 'rf_max_features': 'log2', 'dt_max_depth': 4, 'dt_min_samples_split': 4, 'dt_min_samples_leaf': 6}. Best is trial 14 with value: 0.882845008364993.\n",
      "[I 2024-10-27 17:55:21,260] Trial 30 finished with value: 0.8791945717504375 and parameters: {'rf_n_estimators': 236, 'rf_max_depth': 13, 'rf_min_samples_split': 6, 'rf_min_samples_leaf': 15, 'rf_max_features': None, 'dt_max_depth': 6, 'dt_min_samples_split': 8, 'dt_min_samples_leaf': 3}. Best is trial 14 with value: 0.882845008364993.\n",
      "[I 2024-10-27 17:55:45,041] Trial 31 finished with value: 0.882487265875383 and parameters: {'rf_n_estimators': 210, 'rf_max_depth': 16, 'rf_min_samples_split': 5, 'rf_min_samples_leaf': 5, 'rf_max_features': 'log2', 'dt_max_depth': 4, 'dt_min_samples_split': 12, 'dt_min_samples_leaf': 11}. Best is trial 14 with value: 0.882845008364993.\n",
      "[I 2024-10-27 17:56:00,660] Trial 32 finished with value: 0.8798830319422535 and parameters: {'rf_n_estimators': 183, 'rf_max_depth': 9, 'rf_min_samples_split': 8, 'rf_min_samples_leaf': 7, 'rf_max_features': 'log2', 'dt_max_depth': 6, 'dt_min_samples_split': 11, 'dt_min_samples_leaf': 9}. Best is trial 14 with value: 0.882845008364993.\n",
      "[I 2024-10-27 17:56:25,815] Trial 33 finished with value: 0.8818865989155744 and parameters: {'rf_n_estimators': 219, 'rf_max_depth': 17, 'rf_min_samples_split': 5, 'rf_min_samples_leaf': 5, 'rf_max_features': 'log2', 'dt_max_depth': 5, 'dt_min_samples_split': 12, 'dt_min_samples_leaf': 10}. Best is trial 14 with value: 0.882845008364993.\n",
      "[I 2024-10-27 17:56:54,595] Trial 34 finished with value: 0.8822125387548143 and parameters: {'rf_n_estimators': 279, 'rf_max_depth': 14, 'rf_min_samples_split': 9, 'rf_min_samples_leaf': 10, 'rf_max_features': 'log2', 'dt_max_depth': 3, 'dt_min_samples_split': 9, 'dt_min_samples_leaf': 12}. Best is trial 14 with value: 0.882845008364993.\n",
      "[I 2024-10-27 17:57:09,544] Trial 35 finished with value: 0.8823502009315339 and parameters: {'rf_n_estimators': 143, 'rf_max_depth': 20, 'rf_min_samples_split': 8, 'rf_min_samples_leaf': 8, 'rf_max_features': 'log2', 'dt_max_depth': 7, 'dt_min_samples_split': 7, 'dt_min_samples_leaf': 9}. Best is trial 14 with value: 0.882845008364993.\n",
      "[I 2024-10-27 17:57:24,513] Trial 36 finished with value: 0.8820858507320954 and parameters: {'rf_n_estimators': 127, 'rf_max_depth': 27, 'rf_min_samples_split': 3, 'rf_min_samples_leaf': 4, 'rf_max_features': 'log2', 'dt_max_depth': 4, 'dt_min_samples_split': 16, 'dt_min_samples_leaf': 7}. Best is trial 14 with value: 0.882845008364993.\n",
      "[I 2024-10-27 17:59:01,930] Trial 37 finished with value: 0.8791817312437151 and parameters: {'rf_n_estimators': 268, 'rf_max_depth': 10, 'rf_min_samples_split': 11, 'rf_min_samples_leaf': 6, 'rf_max_features': None, 'dt_max_depth': 6, 'dt_min_samples_split': 11, 'dt_min_samples_leaf': 12}. Best is trial 14 with value: 0.882845008364993.\n",
      "[I 2024-10-27 17:59:31,139] Trial 38 finished with value: 0.8823618469725145 and parameters: {'rf_n_estimators': 239, 'rf_max_depth': 18, 'rf_min_samples_split': 6, 'rf_min_samples_leaf': 2, 'rf_max_features': 'log2', 'dt_max_depth': 8, 'dt_min_samples_split': 14, 'dt_min_samples_leaf': 7}. Best is trial 14 with value: 0.882845008364993.\n",
      "[I 2024-10-27 17:59:52,342] Trial 39 finished with value: 0.8820245597087295 and parameters: {'rf_n_estimators': 204, 'rf_max_depth': 26, 'rf_min_samples_split': 7, 'rf_min_samples_leaf': 11, 'rf_max_features': 'sqrt', 'dt_max_depth': 13, 'dt_min_samples_split': 20, 'dt_min_samples_leaf': 19}. Best is trial 14 with value: 0.882845008364993.\n",
      "[I 2024-10-27 18:00:16,188] Trial 40 finished with value: 0.8816311325550892 and parameters: {'rf_n_estimators': 225, 'rf_max_depth': 14, 'rf_min_samples_split': 9, 'rf_min_samples_leaf': 8, 'rf_max_features': 'log2', 'dt_max_depth': 3, 'dt_min_samples_split': 17, 'dt_min_samples_leaf': 4}. Best is trial 14 with value: 0.882845008364993.\n",
      "[I 2024-10-27 18:00:37,310] Trial 41 finished with value: 0.8826191050316122 and parameters: {'rf_n_estimators': 191, 'rf_max_depth': 17, 'rf_min_samples_split': 14, 'rf_min_samples_leaf': 5, 'rf_max_features': 'log2', 'dt_max_depth': 4, 'dt_min_samples_split': 16, 'dt_min_samples_leaf': 7}. Best is trial 14 with value: 0.882845008364993.\n",
      "[I 2024-10-27 18:00:57,828] Trial 42 finished with value: 0.8824727829782659 and parameters: {'rf_n_estimators': 181, 'rf_max_depth': 16, 'rf_min_samples_split': 13, 'rf_min_samples_leaf': 5, 'rf_max_features': 'log2', 'dt_max_depth': 5, 'dt_min_samples_split': 13, 'dt_min_samples_leaf': 5}. Best is trial 14 with value: 0.882845008364993.\n",
      "[I 2024-10-27 18:01:20,500] Trial 43 finished with value: 0.882435455923841 and parameters: {'rf_n_estimators': 195, 'rf_max_depth': 19, 'rf_min_samples_split': 12, 'rf_min_samples_leaf': 6, 'rf_max_features': 'log2', 'dt_max_depth': 4, 'dt_min_samples_split': 17, 'dt_min_samples_leaf': 8}. Best is trial 14 with value: 0.882845008364993.\n",
      "[I 2024-10-27 18:01:46,917] Trial 44 finished with value: 0.8818335944982907 and parameters: {'rf_n_estimators': 214, 'rf_max_depth': 15, 'rf_min_samples_split': 16, 'rf_min_samples_leaf': 2, 'rf_max_features': 'sqrt', 'dt_max_depth': 6, 'dt_min_samples_split': 14, 'dt_min_samples_leaf': 10}. Best is trial 14 with value: 0.882845008364993.\n",
      "[I 2024-10-27 18:02:14,736] Trial 45 finished with value: 0.8820615881467193 and parameters: {'rf_n_estimators': 246, 'rf_max_depth': 12, 'rf_min_samples_split': 10, 'rf_min_samples_leaf': 4, 'rf_max_features': 'log2', 'dt_max_depth': 3, 'dt_min_samples_split': 19, 'dt_min_samples_leaf': 8}. Best is trial 14 with value: 0.882845008364993.\n",
      "[I 2024-10-27 18:02:33,342] Trial 46 finished with value: 0.8819034707441744 and parameters: {'rf_n_estimators': 164, 'rf_max_depth': 18, 'rf_min_samples_split': 14, 'rf_min_samples_leaf': 7, 'rf_max_features': 'log2', 'dt_max_depth': 7, 'dt_min_samples_split': 9, 'dt_min_samples_leaf': 13}. Best is trial 14 with value: 0.882845008364993.\n",
      "[I 2024-10-27 18:02:58,896] Trial 47 finished with value: 0.8819723018325345 and parameters: {'rf_n_estimators': 227, 'rf_max_depth': 15, 'rf_min_samples_split': 16, 'rf_min_samples_leaf': 3, 'rf_max_features': 'sqrt', 'dt_max_depth': 9, 'dt_min_samples_split': 15, 'dt_min_samples_leaf': 6}. Best is trial 14 with value: 0.882845008364993.\n",
      "[I 2024-10-27 18:03:18,991] Trial 48 finished with value: 0.8820279937977367 and parameters: {'rf_n_estimators': 204, 'rf_max_depth': 22, 'rf_min_samples_split': 2, 'rf_min_samples_leaf': 9, 'rf_max_features': 'log2', 'dt_max_depth': 5, 'dt_min_samples_split': 17, 'dt_min_samples_leaf': 15}. Best is trial 14 with value: 0.882845008364993.\n",
      "[I 2024-10-27 18:05:25,644] Trial 49 finished with value: 0.8781753938564147 and parameters: {'rf_n_estimators': 281, 'rf_max_depth': 13, 'rf_min_samples_split': 20, 'rf_min_samples_leaf': 1, 'rf_max_features': None, 'dt_max_depth': 4, 'dt_min_samples_split': 10, 'dt_min_samples_leaf': 1}. Best is trial 14 with value: 0.882845008364993.\n"
     ]
    },
    {
     "name": "stdout",
     "output_type": "stream",
     "text": [
      "Final Model Accuracy: 0.8\n",
      "Final Model ROC AUC Score: 0.8858287820888836\n"
     ]
    }
   ],
   "source": [
    "import optuna\n",
    "from sklearn.ensemble import RandomForestClassifier, StackingClassifier\n",
    "from sklearn.tree import DecisionTreeClassifier\n",
    "from sklearn.linear_model import LogisticRegression\n",
    "from sklearn.metrics import roc_auc_score, accuracy_score\n",
    "from sklearn.model_selection import train_test_split, cross_val_score\n",
    "import numpy as np\n",
    "\n",
    "X_train, X_test, y_train, y_test = train_test_split(X, y, test_size=0.2, random_state=42)\n",
    "\n",
    "def objective(trial):\n",
    "    rf_n_estimators = trial.suggest_int('rf_n_estimators', 50, 300)\n",
    "    rf_max_depth = trial.suggest_int('rf_max_depth', 5, 30)\n",
    "    rf_min_samples_split = trial.suggest_int('rf_min_samples_split', 2, 20)\n",
    "    rf_min_samples_leaf = trial.suggest_int('rf_min_samples_leaf', 1, 20)\n",
    "    rf_max_features = trial.suggest_categorical('rf_max_features', ['sqrt', 'log2', None])\n",
    "    dt_max_depth = trial.suggest_int('dt_max_depth', 3, 20)\n",
    "    dt_min_samples_split = trial.suggest_int('dt_min_samples_split', 2, 20)\n",
    "    dt_min_samples_leaf = trial.suggest_int('dt_min_samples_leaf', 1, 20)\n",
    "    rf_model = RandomForestClassifier(\n",
    "        n_estimators=rf_n_estimators,\n",
    "        max_depth=rf_max_depth,\n",
    "        min_samples_split=rf_min_samples_split,\n",
    "        min_samples_leaf=rf_min_samples_leaf,\n",
    "        max_features=rf_max_features,\n",
    "        random_state=42\n",
    "    )\n",
    "    \n",
    "    dt_model = DecisionTreeClassifier(\n",
    "        max_depth=dt_max_depth,\n",
    "        min_samples_split=dt_min_samples_split,\n",
    "        min_samples_leaf=dt_min_samples_leaf,\n",
    "        random_state=42\n",
    "    )\n",
    "    \n",
    "    stacking_ensemble = StackingClassifier(\n",
    "        estimators=[('rf', rf_model), ('dt', dt_model)],\n",
    "        final_estimator=LogisticRegression(),\n",
    "        cv=5\n",
    "    )\n",
    "\n",
    "    scores = cross_val_score(stacking_ensemble, X_train, y_train, cv=5, scoring='roc_auc', n_jobs=-1)\n",
    "    return np.mean(scores)\n",
    "\n",
    "study = optuna.create_study(direction='maximize')\n",
    "study.optimize(objective, n_trials=50)\n",
    "\n",
    "best_params = study.best_params\n",
    "rf_model_optimized = RandomForestClassifier(\n",
    "    n_estimators=best_params['rf_n_estimators'],\n",
    "    max_depth=best_params['rf_max_depth'],\n",
    "    min_samples_split=best_params['rf_min_samples_split'],\n",
    "    min_samples_leaf=best_params['rf_min_samples_leaf'],\n",
    "    max_features=best_params['rf_max_features'],\n",
    "    random_state=42\n",
    ")\n",
    "\n",
    "dt_model_optimized = DecisionTreeClassifier(\n",
    "    max_depth=best_params['dt_max_depth'],\n",
    "    min_samples_split=best_params['dt_min_samples_split'],\n",
    "    min_samples_leaf=best_params['dt_min_samples_leaf'],\n",
    "    random_state=42\n",
    ")\n",
    "\n",
    "stacking_ensemble = StackingClassifier(\n",
    "    estimators=[('rf', rf_model_optimized), ('dt', dt_model_optimized)],\n",
    "    final_estimator=LogisticRegression(),\n",
    "    cv=5\n",
    ")\n",
    "stacking_ensemble.fit(X_train, y_train)\n",
    "\n",
    "y_pred = stacking_ensemble.predict(X_test)\n",
    "accuracy = accuracy_score(y_test, y_pred)\n",
    "print(\"Final Model Accuracy:\", accuracy)\n",
    "\n",
    "y_prob = stacking_ensemble.predict_proba(X_test)[:, 1]\n",
    "auc_score = roc_auc_score(y_test, y_prob)\n",
    "print(\"Final Model ROC AUC Score:\", auc_score)"
   ]
  },
  {
   "cell_type": "code",
   "execution_count": 9,
   "metadata": {},
   "outputs": [
    {
     "data": {
      "image/png": "[encoded data removed]",
      "text/plain": [
       "<Figure size 1000x600 with 1 Axes>"
      ]
     },
     "metadata": {},
     "output_type": "display_data"
    }
   ],
   "source": [
    "import numpy as np\n",
    "import matplotlib.pyplot as plt\n",
    "from sklearn.ensemble import RandomForestClassifier\n",
    "from sklearn.model_selection import learning_curve, StratifiedKFold\n",
    "\n",
    "stf = StratifiedKFold(n_splits=5)\n",
    "\n",
    "randomforest_model = RandomForestClassifier(max_depth=5)\n",
    "randomforest_res = learning_curve(\n",
    "    randomforest_model, \n",
    "    X, \n",
    "    y, \n",
    "    cv=stf, \n",
    "    scoring='roc_auc',\n",
    "    train_sizes=np.linspace(0.1, 1.0, 10)\n",
    ")\n",
    "\n",
    "def show_curve_plot(learning_curve_data):\n",
    "    train_sizes, train_scores, val_scores = learning_curve_data\n",
    "\n",
    "    train_scores_mean = np.mean(train_scores, axis=1)\n",
    "    val_scores_mean = np.mean(val_scores, axis=1)\n",
    "    train_scores_std = np.std(train_scores, axis=1)\n",
    "    val_scores_std = np.std(val_scores, axis=1)\n",
    "\n",
    "    plt.figure(figsize=(10, 6))\n",
    "    plt.plot(train_sizes, train_scores_mean, label='Training Score', color='blue', marker='o')\n",
    "    plt.plot(train_sizes, val_scores_mean, label='Validation Score', color='green', marker='o')\n",
    "    plt.fill_between(train_sizes, \n",
    "                     train_scores_mean - train_scores_std, \n",
    "                     train_scores_mean + train_scores_std, \n",
    "                     color='blue', alpha=0.1)\n",
    "    plt.fill_between(train_sizes, \n",
    "                     val_scores_mean - val_scores_std, \n",
    "                     val_scores_mean + val_scores_std, \n",
    "                     color='green', alpha=0.1)\n",
    "\n",
    "    plt.title('Learning Curve for Random Forest Classifier')\n",
    "    plt.xlabel('Training Set Size')\n",
    "    plt.ylabel('ROC AUC Score')\n",
    "    plt.legend()\n",
    "    plt.grid()\n",
    "    plt.show()\n",
    "show_curve_plot(randomforest_res)"
   ]
  }
 ],
 "metadata": {
  "kernelspec": {
   "display_name": "Python 3",
   "language": "python",
   "name": "python3"
  },
  "language_info": {
   "codemirror_mode": {
    "name": "ipython",
    "version": 3
   },
   "file_extension": ".py",
   "mimetype": "text/x-python",
   "name": "python",
   "nbconvert_exporter": "python",
   "pygments_lexer": "ipython3",
   "version": "3.12.0"
  }
 },
 "nbformat": 4,
 "nbformat_minor": 2
}
